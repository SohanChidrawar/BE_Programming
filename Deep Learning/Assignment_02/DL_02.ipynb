{
  "nbformat": 4,
  "nbformat_minor": 0,
  "metadata": {
    "colab": {
      "provenance": [],
      "authorship_tag": "ABX9TyOjBzo/rXFmIoX8G7DozRGY"
    },
    "kernelspec": {
      "name": "python3",
      "display_name": "Python 3"
    },
    "language_info": {
      "name": "python"
    }
  },
  "cells": [
    {
      "cell_type": "code",
      "execution_count": 1,
      "metadata": {
        "id": "kK9Nv-71UFe1"
      },
      "outputs": [],
      "source": [
        "import pandas as pd\n",
        "import numpy as np\n",
        "from sklearn.preprocessing import LabelEncoder\n",
        "from sklearn.model_selection import train_test_split\n",
        "from sklearn.metrics import accuracy_score"
      ]
    },
    {
      "cell_type": "code",
      "source": [
        "url = \"https://archive.ics.uci.edu/ml/machine-learning-databases/letter-recognition/letter-recognition.data\""
      ],
      "metadata": {
        "id": "Mn0HMSaRUY-7"
      },
      "execution_count": 2,
      "outputs": []
    },
    {
      "cell_type": "code",
      "source": [
        "# Define column names based on dataset description\n",
        "names = ['letter', 'x-box', 'y-box', 'width', 'height', 'onpix', 'x-bar', 'y-bar', 'x2bar', 'y2bar', 'xybar', 'x2ybr', 'xy2br', 'x-ege', 'xegvy', 'y-ege', 'yegvx']\n"
      ],
      "metadata": {
        "id": "bjO58dMgUg1W"
      },
      "execution_count": 3,
      "outputs": []
    },
    {
      "cell_type": "code",
      "source": [
        "data = pd.read_csv(url,names=names)"
      ],
      "metadata": {
        "id": "mKxAooXUUmH5"
      },
      "execution_count": 4,
      "outputs": []
    },
    {
      "cell_type": "code",
      "source": [
        "#seaparte features and target\n",
        "X = data.drop('letter',axis=1)\n",
        "y= data['letter']"
      ],
      "metadata": {
        "id": "hnjAsmMDUqKk"
      },
      "execution_count": 5,
      "outputs": []
    },
    {
      "cell_type": "code",
      "source": [
        "#Encode target labels\n",
        "label_encoder = LabelEncoder()\n",
        "y_encoded = label_encoder.fit_transform(y)"
      ],
      "metadata": {
        "id": "V3w2BJyMUySz"
      },
      "execution_count": 6,
      "outputs": []
    },
    {
      "cell_type": "code",
      "source": [
        "X_train,X_test,y_train,y_test = train_test_split(X,y_encoded,test_size=0.2,random_state=42)"
      ],
      "metadata": {
        "id": "4rIss4W_U9Av"
      },
      "execution_count": 7,
      "outputs": []
    },
    {
      "cell_type": "code",
      "source": [
        "from tensorflow.keras import Sequential\n",
        "from tensorflow.keras.layers import Dense"
      ],
      "metadata": {
        "id": "osOCxUg-VJMp"
      },
      "execution_count": 8,
      "outputs": []
    },
    {
      "cell_type": "code",
      "source": [
        "#DEfine model\n",
        "model = Sequential([\n",
        "    # First hidden layer with 64 neurons and ReLU activation function\n",
        "    Dense(64,activation='relu',input_shape=(X_train.shape[1],)),\n",
        "    # Second hidden layer with 64 neurons and ReLU activation function\n",
        "    Dense(64,activation='relu'),\n",
        "    # Output layer with neurons equal to the number of classes (26 for letters\n",
        "    # A-Z) and softmax activation function\n",
        "    Dense(len(label_encoder.classes_), activation='softmax')\n",
        "])"
      ],
      "metadata": {
        "id": "3iyxO-gaVQ8P"
      },
      "execution_count": 9,
      "outputs": []
    },
    {
      "cell_type": "code",
      "source": [
        "#Compile the model\n",
        "model.compile(optimizer='adam',\n",
        "              loss='sparse_categorical_crossentropy',\n",
        "              metrics=['accuracy'])"
      ],
      "metadata": {
        "id": "gqf0_DqfVnte"
      },
      "execution_count": 10,
      "outputs": []
    },
    {
      "cell_type": "code",
      "source": [
        "#Train the model\n",
        "model.fit(X_train,y_train, epochs=20, batch_size=32, validation_split=0.1)"
      ],
      "metadata": {
        "colab": {
          "base_uri": "https://localhost:8080/"
        },
        "id": "rcFUUOZ5VzJb",
        "outputId": "207c623e-d741-4a71-e98a-27670b25a82e"
      },
      "execution_count": 11,
      "outputs": [
        {
          "output_type": "stream",
          "name": "stdout",
          "text": [
            "Epoch 1/20\n",
            "450/450 [==============================] - 3s 4ms/step - loss: 2.1815 - accuracy: 0.4149 - val_loss: 1.2696 - val_accuracy: 0.6456\n",
            "Epoch 2/20\n",
            "450/450 [==============================] - 1s 2ms/step - loss: 1.0784 - accuracy: 0.6984 - val_loss: 0.9645 - val_accuracy: 0.7481\n",
            "Epoch 3/20\n",
            "450/450 [==============================] - 1s 2ms/step - loss: 0.8813 - accuracy: 0.7514 - val_loss: 0.8368 - val_accuracy: 0.7756\n",
            "Epoch 4/20\n",
            "450/450 [==============================] - 1s 2ms/step - loss: 0.7697 - accuracy: 0.7830 - val_loss: 0.7463 - val_accuracy: 0.7850\n",
            "Epoch 5/20\n",
            "450/450 [==============================] - 1s 2ms/step - loss: 0.6892 - accuracy: 0.7978 - val_loss: 0.6770 - val_accuracy: 0.8125\n",
            "Epoch 6/20\n",
            "450/450 [==============================] - 1s 2ms/step - loss: 0.6316 - accuracy: 0.8175 - val_loss: 0.6224 - val_accuracy: 0.8363\n",
            "Epoch 7/20\n",
            "450/450 [==============================] - 1s 2ms/step - loss: 0.5755 - accuracy: 0.8312 - val_loss: 0.5645 - val_accuracy: 0.8469\n",
            "Epoch 8/20\n",
            "450/450 [==============================] - 1s 2ms/step - loss: 0.5280 - accuracy: 0.8453 - val_loss: 0.5369 - val_accuracy: 0.8375\n",
            "Epoch 9/20\n",
            "450/450 [==============================] - 1s 2ms/step - loss: 0.5034 - accuracy: 0.8488 - val_loss: 0.5026 - val_accuracy: 0.8550\n",
            "Epoch 10/20\n",
            "450/450 [==============================] - 1s 2ms/step - loss: 0.4628 - accuracy: 0.8625 - val_loss: 0.4708 - val_accuracy: 0.8587\n",
            "Epoch 11/20\n",
            "450/450 [==============================] - 1s 2ms/step - loss: 0.4281 - accuracy: 0.8690 - val_loss: 0.4257 - val_accuracy: 0.8800\n",
            "Epoch 12/20\n",
            "450/450 [==============================] - 1s 3ms/step - loss: 0.4059 - accuracy: 0.8734 - val_loss: 0.4414 - val_accuracy: 0.8606\n",
            "Epoch 13/20\n",
            "450/450 [==============================] - 1s 3ms/step - loss: 0.3816 - accuracy: 0.8808 - val_loss: 0.3883 - val_accuracy: 0.8813\n",
            "Epoch 14/20\n",
            "450/450 [==============================] - 1s 2ms/step - loss: 0.3620 - accuracy: 0.8881 - val_loss: 0.3554 - val_accuracy: 0.8963\n",
            "Epoch 15/20\n",
            "450/450 [==============================] - 1s 2ms/step - loss: 0.3467 - accuracy: 0.8919 - val_loss: 0.3482 - val_accuracy: 0.8981\n",
            "Epoch 16/20\n",
            "450/450 [==============================] - 1s 2ms/step - loss: 0.3297 - accuracy: 0.8968 - val_loss: 0.3437 - val_accuracy: 0.8925\n",
            "Epoch 17/20\n",
            "450/450 [==============================] - 1s 2ms/step - loss: 0.3082 - accuracy: 0.9044 - val_loss: 0.3213 - val_accuracy: 0.9106\n",
            "Epoch 18/20\n",
            "450/450 [==============================] - 1s 2ms/step - loss: 0.2958 - accuracy: 0.9062 - val_loss: 0.3456 - val_accuracy: 0.8875\n",
            "Epoch 19/20\n",
            "450/450 [==============================] - 1s 2ms/step - loss: 0.2827 - accuracy: 0.9092 - val_loss: 0.3046 - val_accuracy: 0.9131\n",
            "Epoch 20/20\n",
            "450/450 [==============================] - 1s 2ms/step - loss: 0.2732 - accuracy: 0.9150 - val_loss: 0.2995 - val_accuracy: 0.9119\n"
          ]
        }
      ]
    },
    {
      "cell_type": "code",
      "source": [
        "#save the trained model\n",
        "model.save(\"letter_recognition_model.h5\")"
      ],
      "metadata": {
        "colab": {
          "base_uri": "https://localhost:8080/"
        },
        "id": "s61F5nh4cIcs",
        "outputId": "f65c6658-e58b-4464-f17f-434e478d9440"
      },
      "execution_count": 17,
      "outputs": [
        {
          "output_type": "stream",
          "name": "stderr",
          "text": [
            "/usr/local/lib/python3.10/dist-packages/keras/src/engine/training.py:3103: UserWarning: You are saving your model as an HDF5 file via `model.save()`. This file format is considered legacy. We recommend using instead the native Keras format, e.g. `model.save('my_model.keras')`.\n",
            "  saving_api.save_model(\n"
          ]
        }
      ]
    },
    {
      "cell_type": "code",
      "source": [
        "#Evaluate the model\n",
        "test_loss, test_acc = model.evaluate(X_test, y_test)\n",
        "print('Test Accuracy: ',test_acc)"
      ],
      "metadata": {
        "colab": {
          "base_uri": "https://localhost:8080/"
        },
        "id": "deIM9hLfV66j",
        "outputId": "7086059c-fe76-4fae-ca84-a3b3c253edf8"
      },
      "execution_count": 12,
      "outputs": [
        {
          "output_type": "stream",
          "name": "stdout",
          "text": [
            "125/125 [==============================] - 0s 1ms/step - loss: 0.2945 - accuracy: 0.9075\n",
            "Test Accuracy:  0.9075000286102295\n"
          ]
        }
      ]
    },
    {
      "cell_type": "code",
      "source": [
        "#save the label encoder\n",
        "np.save(\"label_encoder_classes.npy\",label_encoder.classes_)"
      ],
      "metadata": {
        "id": "6-ETdeahcDnf"
      },
      "execution_count": 18,
      "outputs": []
    },
    {
      "cell_type": "code",
      "source": [
        "from tensorflow.keras.models import load_model"
      ],
      "metadata": {
        "id": "6rrN9VsuWpYG"
      },
      "execution_count": 20,
      "outputs": []
    },
    {
      "cell_type": "code",
      "source": [
        "# Function to preprocess input dimensions\n",
        "def preprocess_input(dimensions):\n",
        "  # Convert dimensions to a numpy array and reshape it to match the input shape\n",
        "  # of the model\n",
        "  input_data=np.array(dimensions).reshape(1,-1)\n",
        "  return input_data"
      ],
      "metadata": {
        "id": "zslp-hMRaG4r"
      },
      "execution_count": 21,
      "outputs": []
    },
    {
      "cell_type": "code",
      "source": [
        "# Function to predict the output using the trained model\n",
        "def predict_output(model,input_data,label_encoder):\n",
        "   # Use the model to predict the output\n",
        "  predicted_class=np.argmax(model.predict(input_data),axis=-1)\n",
        "  # Convert the predicted class index back to the original letter\n",
        "  predicted_letter = label_encoder.inverse_transform(predicted_class)\n",
        "  return predicted_letter[0]"
      ],
      "metadata": {
        "id": "xTVDjqOoaWPQ"
      },
      "execution_count": 22,
      "outputs": []
    },
    {
      "cell_type": "code",
      "source": [
        "# Load the trained model and label encoder\n",
        "model=load_model(\"/content/letter_recognition_model.h5\")\n",
        "label_encoder = LabelEncoder()\n",
        "label_encoder.classes_ = np.load(\"/content/label_encoder_classes.npy\",allow_pickle=True)"
      ],
      "metadata": {
        "id": "9hK3TaRXatow"
      },
      "execution_count": 25,
      "outputs": []
    },
    {
      "cell_type": "code",
      "source": [
        "# Input dimensions dynamically from the user\n",
        "dimension_str = input(\"Enter the dimensions separated by commas: \")\n",
        "# Convert the input string to a list of integers\n",
        "dimensions = list(map(int, dimension_str.split(',')))"
      ],
      "metadata": {
        "colab": {
          "base_uri": "https://localhost:8080/"
        },
        "id": "v3D2_X26bI0s",
        "outputId": "29f5c6df-d494-4b25-dbd9-06f5955e29f5"
      },
      "execution_count": 30,
      "outputs": [
        {
          "name": "stdout",
          "output_type": "stream",
          "text": [
            "Enter the dimensions separated by commas: 4,11,5,8,3,8,8,6,9,5,6,6,0,8,9,7\n"
          ]
        }
      ]
    },
    {
      "cell_type": "code",
      "source": [
        "# Preprocess the input dimensions\n",
        "input_data = preprocess_input(dimensions)"
      ],
      "metadata": {
        "id": "0nfBCuB2dd7j"
      },
      "execution_count": 31,
      "outputs": []
    },
    {
      "cell_type": "code",
      "source": [
        "# Predict the output\n",
        "predicted_letter = predict_output(model, input_data,label_encoder)\n",
        "print(\"Predicted Letter: \",predicted_letter)"
      ],
      "metadata": {
        "colab": {
          "base_uri": "https://localhost:8080/"
        },
        "id": "0eG1PWFvdynt",
        "outputId": "8234751a-fa04-46ff-b43f-66b820ade0aa"
      },
      "execution_count": 32,
      "outputs": [
        {
          "output_type": "stream",
          "name": "stdout",
          "text": [
            "1/1 [==============================] - 0s 25ms/step\n",
            "Predicted Letter:  S\n"
          ]
        }
      ]
    },
    {
      "cell_type": "code",
      "source": [],
      "metadata": {
        "id": "2chBPI3heAkv"
      },
      "execution_count": null,
      "outputs": []
    }
  ]
}
