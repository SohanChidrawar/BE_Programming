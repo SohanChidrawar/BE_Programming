{
  "nbformat": 4,
  "nbformat_minor": 0,
  "metadata": {
    "colab": {
      "provenance": [],
      "authorship_tag": "ABX9TyOEJbNCHU4DVmKFC9qDZG9L"
    },
    "kernelspec": {
      "name": "python3",
      "display_name": "Python 3"
    },
    "language_info": {
      "name": "python"
    }
  },
  "cells": [
    {
      "cell_type": "code",
      "execution_count": 8,
      "metadata": {
        "id": "5VQfQa9JwZaI"
      },
      "outputs": [],
      "source": [
        "import numpy as np\n",
        "import matplotlib.pyplot as plt\n",
        "from tensorflow.keras.datasets import fashion_mnist\n",
        "from tensorflow.keras.models import Sequential\n",
        "from tensorflow.keras.layers import Conv2D, MaxPooling2D, Flatten, Dense\n",
        "from tensorflow.keras.utils import to_categorical\n",
        "import time"
      ]
    },
    {
      "cell_type": "code",
      "source": [
        "# Load the Fashion MNIST dataset\n",
        "(train_images, train_labels), (test_images, test_labels) = fashion_mnist.load_data()"
      ],
      "metadata": {
        "id": "A4e9VeZ-wdcs"
      },
      "execution_count": 9,
      "outputs": []
    },
    {
      "cell_type": "code",
      "source": [
        "# Preprocess the data\n",
        "train_images = train_images.reshape((train_images.shape[0], 28, 28, 1)).astype('float32') / 255\n",
        "test_images = test_images.reshape((test_images.shape[0], 28, 28, 1)).astype('float32') / 255\n",
        "train_labels = to_categorical(train_labels)\n",
        "test_labels = to_categorical(test_labels)"
      ],
      "metadata": {
        "id": "b2eal-VRzQfe"
      },
      "execution_count": 10,
      "outputs": []
    },
    {
      "cell_type": "code",
      "source": [
        "#Measure trainig time\n",
        "start_time = time.time()"
      ],
      "metadata": {
        "id": "SWHaoKs38Dwf"
      },
      "execution_count": 11,
      "outputs": []
    },
    {
      "cell_type": "code",
      "source": [
        "# Define the CNN model\n",
        "model = Sequential([\n",
        "    Conv2D(32, (3, 3), activation='relu', input_shape=(28, 28, 1)),\n",
        "    MaxPooling2D((2, 2)),\n",
        "    Conv2D(64, (3, 3), activation='relu'),\n",
        "    MaxPooling2D((2, 2)),\n",
        "    Conv2D(64, (3, 3), activation='relu'),\n",
        "    Flatten(),\n",
        "    Dense(64, activation='relu'),\n",
        "    Dense(10, activation='softmax')\n",
        "])"
      ],
      "metadata": {
        "id": "XpLAhjw0zTX5"
      },
      "execution_count": 12,
      "outputs": []
    },
    {
      "cell_type": "code",
      "source": [
        "# Compile the model\n",
        "model.compile(optimizer='adam',\n",
        "              loss='categorical_crossentropy',\n",
        "              metrics=['accuracy'])"
      ],
      "metadata": {
        "id": "s5sQcJNezV7g"
      },
      "execution_count": 13,
      "outputs": []
    },
    {
      "cell_type": "code",
      "source": [
        "# Train the model\n",
        "model.fit(train_images, train_labels, epochs=15, batch_size=64, validation_split=0.2)"
      ],
      "metadata": {
        "colab": {
          "base_uri": "https://localhost:8080/"
        },
        "id": "jWSLEdRMzYoZ",
        "outputId": "63acf76b-1c53-4a43-f7fe-9f67f58eb8e9"
      },
      "execution_count": 14,
      "outputs": [
        {
          "output_type": "stream",
          "name": "stdout",
          "text": [
            "Epoch 1/15\n",
            "750/750 [==============================] - 51s 67ms/step - loss: 0.5759 - accuracy: 0.7915 - val_loss: 0.3786 - val_accuracy: 0.8644\n",
            "Epoch 2/15\n",
            "750/750 [==============================] - 49s 66ms/step - loss: 0.3542 - accuracy: 0.8722 - val_loss: 0.3356 - val_accuracy: 0.8762\n",
            "Epoch 3/15\n",
            "750/750 [==============================] - 47s 62ms/step - loss: 0.3056 - accuracy: 0.8894 - val_loss: 0.2960 - val_accuracy: 0.8942\n",
            "Epoch 4/15\n",
            "750/750 [==============================] - 45s 60ms/step - loss: 0.2737 - accuracy: 0.9002 - val_loss: 0.2866 - val_accuracy: 0.8994\n",
            "Epoch 5/15\n",
            "750/750 [==============================] - 48s 64ms/step - loss: 0.2497 - accuracy: 0.9084 - val_loss: 0.2647 - val_accuracy: 0.9068\n",
            "Epoch 6/15\n",
            "750/750 [==============================] - 47s 63ms/step - loss: 0.2296 - accuracy: 0.9166 - val_loss: 0.2755 - val_accuracy: 0.9003\n",
            "Epoch 7/15\n",
            "750/750 [==============================] - 48s 64ms/step - loss: 0.2135 - accuracy: 0.9224 - val_loss: 0.2500 - val_accuracy: 0.9103\n",
            "Epoch 8/15\n",
            "750/750 [==============================] - 45s 60ms/step - loss: 0.1970 - accuracy: 0.9274 - val_loss: 0.2751 - val_accuracy: 0.9013\n",
            "Epoch 9/15\n",
            "750/750 [==============================] - 45s 61ms/step - loss: 0.1836 - accuracy: 0.9327 - val_loss: 0.2705 - val_accuracy: 0.9062\n",
            "Epoch 10/15\n",
            "750/750 [==============================] - 47s 62ms/step - loss: 0.1677 - accuracy: 0.9385 - val_loss: 0.2956 - val_accuracy: 0.8996\n",
            "Epoch 11/15\n",
            "750/750 [==============================] - 48s 64ms/step - loss: 0.1532 - accuracy: 0.9430 - val_loss: 0.2601 - val_accuracy: 0.9132\n",
            "Epoch 12/15\n",
            "750/750 [==============================] - 45s 60ms/step - loss: 0.1411 - accuracy: 0.9480 - val_loss: 0.2706 - val_accuracy: 0.9090\n",
            "Epoch 13/15\n",
            "750/750 [==============================] - 44s 58ms/step - loss: 0.1303 - accuracy: 0.9520 - val_loss: 0.2822 - val_accuracy: 0.9064\n",
            "Epoch 14/15\n",
            "750/750 [==============================] - 45s 60ms/step - loss: 0.1191 - accuracy: 0.9563 - val_loss: 0.2765 - val_accuracy: 0.9078\n",
            "Epoch 15/15\n",
            "750/750 [==============================] - 44s 59ms/step - loss: 0.1107 - accuracy: 0.9587 - val_loss: 0.3025 - val_accuracy: 0.9084\n"
          ]
        },
        {
          "output_type": "execute_result",
          "data": {
            "text/plain": [
              "<keras.src.callbacks.History at 0x7b9298831e70>"
            ]
          },
          "metadata": {},
          "execution_count": 14
        }
      ]
    },
    {
      "cell_type": "code",
      "source": [
        "end_time = time.time()\n",
        "training_time = end_time-start_time\n",
        "print(\"Training Time:\",training_time,\"second\")"
      ],
      "metadata": {
        "colab": {
          "base_uri": "https://localhost:8080/"
        },
        "id": "xnkvnPhPzbEs",
        "outputId": "58180c07-9844-49e2-9568-f5d967d04513"
      },
      "execution_count": 15,
      "outputs": [
        {
          "output_type": "stream",
          "name": "stdout",
          "text": [
            "Training Time: 765.7932426929474 second\n"
          ]
        }
      ]
    },
    {
      "cell_type": "code",
      "source": [
        "#Measure testing time\n",
        "start_time = time.time()"
      ],
      "metadata": {
        "id": "fAqZ_1-O_gTj"
      },
      "execution_count": 16,
      "outputs": []
    },
    {
      "cell_type": "code",
      "source": [
        "# Select random images from the test set\n",
        "num_samples = 5\n",
        "random_indices = np.random.choice(len(test_images), num_samples, replace=False)\n",
        "sample_images = test_images[random_indices]\n",
        "sample_labels = test_labels[random_indices]"
      ],
      "metadata": {
        "id": "5JTDs_2Z_JPa"
      },
      "execution_count": 17,
      "outputs": []
    },
    {
      "cell_type": "code",
      "source": [
        "# Make predictions on the sample images\n",
        "predictions = model.predict(sample_images)\n",
        "predicted_labels = np.argmax(predictions, axis=1)"
      ],
      "metadata": {
        "colab": {
          "base_uri": "https://localhost:8080/"
        },
        "id": "8v5-WnML_mVc",
        "outputId": "741dba79-43f2-49f0-dc26-480bf2194a3a"
      },
      "execution_count": 18,
      "outputs": [
        {
          "output_type": "stream",
          "name": "stdout",
          "text": [
            "1/1 [==============================] - 0s 156ms/step\n"
          ]
        }
      ]
    },
    {
      "cell_type": "code",
      "source": [
        "# Define class labels\n",
        "class_labels = ['T-shirt/top', 'Trouser', 'Pullover', 'Dress', 'Coat',\n",
        "                'Sandal', 'Shirt', 'Sneaker', 'Bag', 'Ankle boot']"
      ],
      "metadata": {
        "id": "1rUHkQDV_rk0"
      },
      "execution_count": 19,
      "outputs": []
    },
    {
      "cell_type": "code",
      "source": [
        "# Show images with their predicted and true labels\n",
        "plt.figure(figsize=(10, 6))\n",
        "for i in range(num_samples):\n",
        "    plt.subplot(1, num_samples, i + 1)\n",
        "    plt.imshow(sample_images[i].reshape(28, 28), cmap='gray')\n",
        "    plt.title(f\"True: {class_labels[np.argmax(sample_labels[i])]} \\nPredicted: {class_labels[predicted_labels[i]]}\")\n",
        "    plt.axis('off')\n",
        "plt.tight_layout()\n",
        "plt.show()"
      ],
      "metadata": {
        "colab": {
          "base_uri": "https://localhost:8080/",
          "height": 262
        },
        "id": "-JSWaANd_wmU",
        "outputId": "306fefcf-f0d2-481e-f34a-ce75fe5a9327"
      },
      "execution_count": 20,
      "outputs": [
        {
          "output_type": "display_data",
          "data": {
            "text/plain": [
              "<Figure size 1000x600 with 5 Axes>"
            ],
            "image/png": "[encoded data removed]"
          },
          "metadata": {}
        }
      ]
    },
    {
      "cell_type": "code",
      "source": [
        "end_time = time.time()\n",
        "test_time = end_time-start_time\n",
        "print(\"Testing Time:\",test_time,\"second\")"
      ],
      "metadata": {
        "colab": {
          "base_uri": "https://localhost:8080/"
        },
        "id": "0kXrpiZE_y1l",
        "outputId": "b13d0e87-b25f-47a7-81e6-9176213b2a70"
      },
      "execution_count": 23,
      "outputs": [
        {
          "output_type": "stream",
          "name": "stdout",
          "text": [
            "Testing Time: 163.4023621082306 second\n"
          ]
        }
      ]
    },
    {
      "cell_type": "code",
      "source": [
        "from tensorflow.keras.preprocessing.image import load_img\n",
        "from tensorflow.keras.preprocessing.image import img_to_array"
      ],
      "metadata": {
        "id": "tDqW-R86AIZw"
      },
      "execution_count": 24,
      "outputs": []
    },
    {
      "cell_type": "code",
      "source": [
        "def preprocess_image(image_path):\n",
        "  \"\"\"\n",
        "  Preprocesses a fashion image with black background and white foreground.\n",
        "\n",
        "  Args:\n",
        "      image_path: Path to the image file.\n",
        "\n",
        "  Returns:\n",
        "      A NumPy array representing the preprocessed image.\n",
        "  \"\"\"\n",
        "  # Load the image from the file path in grayscale mode\n",
        "  img = load_img(image_path, grayscale=True, target_size=(28, 28))\n",
        "\n",
        "  # Convert the image to a NumPy array\n",
        "  img_array = img_to_array(img)\n",
        "\n",
        "  # Invert the grayscale values (black -> white, white -> black)\n",
        "  img_array = 255 - img_array\n",
        "  plt.imshow(img_array, cmap='gray')\n",
        "  # Reshape the image array to add a dimension for the color channel (even though it's grayscale)\n",
        "  img_array = img_array.reshape((1, 28, 28, 1))\n",
        "\n",
        "  # Normalize the pixel values to be between 0 and 1\n",
        "  return img_array / 255.0\n",
        "\n",
        "# Example usage\n",
        "preprocessed_image = preprocess_image(\"/content/shopping.jpeg\")"
      ],
      "metadata": {
        "colab": {
          "base_uri": "https://localhost:8080/",
          "height": 430
        },
        "id": "Kk0UC2R_AUzl",
        "outputId": "5514c2a5-736c-4566-a0f9-afbddcee1958"
      },
      "execution_count": 29,
      "outputs": [
        {
          "output_type": "display_data",
          "data": {
            "text/plain": [
              "<Figure size 640x480 with 1 Axes>"
            ],
            "image/png": "[encoded data removed]"
          },
          "metadata": {}
        }
      ]
    },
    {
      "cell_type": "code",
      "source": [
        "x2 = model.predict(preprocessed_image)\n",
        "print(x2)\n",
        "print(class_labels[np.argmax(x2)])"
      ],
      "metadata": {
        "colab": {
          "base_uri": "https://localhost:8080/"
        },
        "id": "AiMmEwHuAc2J",
        "outputId": "55a2d558-df1c-4cfc-a153-be5c9b5b7f6b"
      },
      "execution_count": 30,
      "outputs": [
        {
          "output_type": "stream",
          "name": "stdout",
          "text": [
            "1/1 [==============================] - 0s 23ms/step\n",
            "[[1.9212019e-01 9.5436891e-04 6.4422544e-03 7.3718410e-03 1.1106241e-03\n",
            "  4.3849373e-05 6.3415855e-02 3.9289049e-03 7.2437155e-01 2.4057018e-04]]\n",
            "Bag\n"
          ]
        }
      ]
    },
    {
      "cell_type": "code",
      "source": [
        "preprocessed_image = preprocess_image(\"/content/ankleboot.jpeg\")\n",
        "x2 = model.predict(preprocessed_image)\n",
        "print(x2)\n",
        "print(class_labels[np.argmax(x2)])"
      ],
      "metadata": {
        "colab": {
          "base_uri": "https://localhost:8080/",
          "height": 499
        },
        "id": "CdTY4Aj1BCl6",
        "outputId": "59c6de0c-b806-4ebe-aca9-1b42411b97c4"
      },
      "execution_count": 33,
      "outputs": [
        {
          "output_type": "stream",
          "name": "stdout",
          "text": [
            "1/1 [==============================] - 0s 181ms/step\n",
            "[[3.7664489e-07 7.8947065e-05 1.4506697e-09 2.4555800e-07 1.6856173e-05\n",
            "  3.8237899e-10 8.6775632e-05 5.2583232e-08 9.9981648e-01 2.5607002e-07]]\n",
            "Bag\n"
          ]
        },
        {
          "output_type": "display_data",
          "data": {
            "text/plain": [
              "<Figure size 640x480 with 1 Axes>"
            ],
            "image/png": "[encoded data removed]"
          },
          "metadata": {}
        }
      ]
    },
    {
      "cell_type": "code",
      "source": [
        "preprocessed_image = preprocess_image(\"/content/shirt.jpeg\")\n",
        "x2 = model.predict(preprocessed_image)\n",
        "print(x2)\n",
        "print(class_labels[np.argmax(x2)])"
      ],
      "metadata": {
        "colab": {
          "base_uri": "https://localhost:8080/",
          "height": 499
        },
        "id": "-sKBxpGOBgtk",
        "outputId": "bc26c372-7a72-4d51-a165-10fd1fba9463"
      },
      "execution_count": 34,
      "outputs": [
        {
          "output_type": "stream",
          "name": "stdout",
          "text": [
            "1/1 [==============================] - 0s 51ms/step\n",
            "[[1.1404105e-06 3.1758653e-08 5.3156661e-03 8.1479783e-09 9.9466395e-01\n",
            "  5.0982639e-08 1.8525674e-05 1.1109612e-09 4.3052452e-07 1.9763762e-07]]\n",
            "Coat\n"
          ]
        },
        {
          "output_type": "display_data",
          "data": {
            "text/plain": [
              "<Figure size 640x480 with 1 Axes>"
            ],
            "image/png": "[encoded data removed]"
          },
          "metadata": {}
        }
      ]
    },
    {
      "cell_type": "code",
      "source": [
        "preprocessed_image = preprocess_image(\"/content/trouser.jpeg\")\n",
        "x2 = model.predict(preprocessed_image)\n",
        "print(x2)\n",
        "print(class_labels[np.argmax(x2)])"
      ],
      "metadata": {
        "colab": {
          "base_uri": "https://localhost:8080/",
          "height": 499
        },
        "id": "V238JWbkCCpO",
        "outputId": "0680900b-6df9-4f54-e3d4-b34789da6634"
      },
      "execution_count": 36,
      "outputs": [
        {
          "output_type": "stream",
          "name": "stdout",
          "text": [
            "1/1 [==============================] - 0s 26ms/step\n",
            "[[6.4477632e-03 5.4510742e-01 2.2587423e-01 6.4001428e-03 1.9322127e-02\n",
            "  1.1349155e-06 6.5233126e-02 3.2372688e-10 1.3161406e-01 4.6821378e-09]]\n",
            "Trouser\n"
          ]
        },
        {
          "output_type": "display_data",
          "data": {
            "text/plain": [
              "<Figure size 640x480 with 1 Axes>"
            ],
            "image/png": "[encoded data removed]"
          },
          "metadata": {}
        }
      ]
    },
    {
      "cell_type": "code",
      "source": [
        "preprocessed_image = preprocess_image(\"/content/handbag.jpeg\")\n",
        "x2 = model.predict(preprocessed_image)\n",
        "print(x2)\n",
        "print(class_labels[np.argmax(x2)])"
      ],
      "metadata": {
        "colab": {
          "base_uri": "https://localhost:8080/",
          "height": 499
        },
        "id": "6pnCVSnaCSKu",
        "outputId": "90206a5f-13cb-478c-d228-dc91066656f1"
      },
      "execution_count": 37,
      "outputs": [
        {
          "output_type": "stream",
          "name": "stdout",
          "text": [
            "1/1 [==============================] - 0s 26ms/step\n",
            "[[8.9209463e-04 1.7364420e-05 6.4983018e-02 6.1618368e-05 4.3528975e-04\n",
            "  1.3975769e-05 2.5087362e-03 6.9763191e-05 9.3049401e-01 5.2411936e-04]]\n",
            "Bag\n"
          ]
        },
        {
          "output_type": "display_data",
          "data": {
            "text/plain": [
              "<Figure size 640x480 with 1 Axes>"
            ],
            "image/png": "[encoded data removed]"
          },
          "metadata": {}
        }
      ]
    },
    {
      "cell_type": "code",
      "source": [
        "preprocessed_image = preprocess_image(\"/content/sandal.jpeg\")\n",
        "x2 = model.predict(preprocessed_image)\n",
        "print(x2)\n",
        "print(class_labels[np.argmax(x2)])"
      ],
      "metadata": {
        "colab": {
          "base_uri": "https://localhost:8080/",
          "height": 499
        },
        "id": "1DiQAIgYChcG",
        "outputId": "af668499-32e7-48fb-8cbc-9c62a4537cb3"
      },
      "execution_count": 38,
      "outputs": [
        {
          "output_type": "stream",
          "name": "stdout",
          "text": [
            "1/1 [==============================] - 0s 68ms/step\n",
            "[[4.1381596e-09 2.6305402e-16 2.3812344e-14 7.9156616e-16 1.4595910e-12\n",
            "  1.0000000e+00 3.1425522e-14 1.4971890e-11 3.3837559e-08 4.8409491e-14]]\n",
            "Sandal\n"
          ]
        },
        {
          "output_type": "display_data",
          "data": {
            "text/plain": [
              "<Figure size 640x480 with 1 Axes>"
            ],
            "image/png": "[encoded data removed]"
          },
          "metadata": {}
        }
      ]
    },
    {
      "cell_type": "code",
      "source": [],
      "metadata": {
        "id": "dyQFKXw_CsGE"
      },
      "execution_count": null,
      "outputs": []
    }
  ]
}
