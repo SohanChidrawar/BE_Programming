{
 "cells": [
  {
   "cell_type": "code",
   "execution_count": 40,
   "id": "88404844",
   "metadata": {},
   "outputs": [],
   "source": [
    "import pandas as pd\n",
    "import numpy as np\n",
    "import tensorflow as tf"
   ]
  },
  {
   "cell_type": "code",
   "execution_count": 3,
   "id": "04b4c5e1",
   "metadata": {},
   "outputs": [],
   "source": [
    "from sklearn.model_selection import train_test_split\n",
    "from sklearn.preprocessing import StandardScaler"
   ]
  },
  {
   "cell_type": "code",
   "execution_count": 6,
   "id": "5f154ab1",
   "metadata": {},
   "outputs": [],
   "source": [
    "data = pd.read_csv(\"HousingData.csv\")"
   ]
  },
  {
   "cell_type": "code",
   "execution_count": 7,
   "id": "dec3a1f8",
   "metadata": {},
   "outputs": [
    {
     "data": {
      "text/html": [
       "<div>\n",
       "<style scoped>\n",
       "    .dataframe tbody tr th:only-of-type {\n",
       "        vertical-align: middle;\n",
       "    }\n",
       "\n",
       "    .dataframe tbody tr th {\n",
       "        vertical-align: top;\n",
       "    }\n",
       "\n",
       "    .dataframe thead th {\n",
       "        text-align: right;\n",
       "    }\n",
       "</style>\n",
       "<table border=\"1\" class=\"dataframe\">\n",
       "  <thead>\n",
       "    <tr style=\"text-align: right;\">\n",
       "      <th></th>\n",
       "      <th>CRIM</th>\n",
       "      <th>ZN</th>\n",
       "      <th>INDUS</th>\n",
       "      <th>CHAS</th>\n",
       "      <th>NOX</th>\n",
       "      <th>RM</th>\n",
       "      <th>AGE</th>\n",
       "      <th>DIS</th>\n",
       "      <th>RAD</th>\n",
       "      <th>TAX</th>\n",
       "      <th>PTRATIO</th>\n",
       "      <th>B</th>\n",
       "      <th>LSTAT</th>\n",
       "      <th>MEDV</th>\n",
       "    </tr>\n",
       "  </thead>\n",
       "  <tbody>\n",
       "    <tr>\n",
       "      <th>0</th>\n",
       "      <td>0.00632</td>\n",
       "      <td>18.0</td>\n",
       "      <td>2.31</td>\n",
       "      <td>0.0</td>\n",
       "      <td>0.538</td>\n",
       "      <td>6.575</td>\n",
       "      <td>65.2</td>\n",
       "      <td>4.0900</td>\n",
       "      <td>1</td>\n",
       "      <td>296</td>\n",
       "      <td>15.3</td>\n",
       "      <td>396.90</td>\n",
       "      <td>4.98</td>\n",
       "      <td>24.0</td>\n",
       "    </tr>\n",
       "    <tr>\n",
       "      <th>1</th>\n",
       "      <td>0.02731</td>\n",
       "      <td>0.0</td>\n",
       "      <td>7.07</td>\n",
       "      <td>0.0</td>\n",
       "      <td>0.469</td>\n",
       "      <td>6.421</td>\n",
       "      <td>78.9</td>\n",
       "      <td>4.9671</td>\n",
       "      <td>2</td>\n",
       "      <td>242</td>\n",
       "      <td>17.8</td>\n",
       "      <td>396.90</td>\n",
       "      <td>9.14</td>\n",
       "      <td>21.6</td>\n",
       "    </tr>\n",
       "    <tr>\n",
       "      <th>2</th>\n",
       "      <td>0.02729</td>\n",
       "      <td>0.0</td>\n",
       "      <td>7.07</td>\n",
       "      <td>0.0</td>\n",
       "      <td>0.469</td>\n",
       "      <td>7.185</td>\n",
       "      <td>61.1</td>\n",
       "      <td>4.9671</td>\n",
       "      <td>2</td>\n",
       "      <td>242</td>\n",
       "      <td>17.8</td>\n",
       "      <td>392.83</td>\n",
       "      <td>4.03</td>\n",
       "      <td>34.7</td>\n",
       "    </tr>\n",
       "    <tr>\n",
       "      <th>3</th>\n",
       "      <td>0.03237</td>\n",
       "      <td>0.0</td>\n",
       "      <td>2.18</td>\n",
       "      <td>0.0</td>\n",
       "      <td>0.458</td>\n",
       "      <td>6.998</td>\n",
       "      <td>45.8</td>\n",
       "      <td>6.0622</td>\n",
       "      <td>3</td>\n",
       "      <td>222</td>\n",
       "      <td>18.7</td>\n",
       "      <td>394.63</td>\n",
       "      <td>2.94</td>\n",
       "      <td>33.4</td>\n",
       "    </tr>\n",
       "    <tr>\n",
       "      <th>4</th>\n",
       "      <td>0.06905</td>\n",
       "      <td>0.0</td>\n",
       "      <td>2.18</td>\n",
       "      <td>0.0</td>\n",
       "      <td>0.458</td>\n",
       "      <td>7.147</td>\n",
       "      <td>54.2</td>\n",
       "      <td>6.0622</td>\n",
       "      <td>3</td>\n",
       "      <td>222</td>\n",
       "      <td>18.7</td>\n",
       "      <td>396.90</td>\n",
       "      <td>NaN</td>\n",
       "      <td>36.2</td>\n",
       "    </tr>\n",
       "  </tbody>\n",
       "</table>\n",
       "</div>"
      ],
      "text/plain": [
       "      CRIM    ZN  INDUS  CHAS    NOX     RM   AGE     DIS  RAD  TAX  PTRATIO  \\\n",
       "0  0.00632  18.0   2.31   0.0  0.538  6.575  65.2  4.0900    1  296     15.3   \n",
       "1  0.02731   0.0   7.07   0.0  0.469  6.421  78.9  4.9671    2  242     17.8   \n",
       "2  0.02729   0.0   7.07   0.0  0.469  7.185  61.1  4.9671    2  242     17.8   \n",
       "3  0.03237   0.0   2.18   0.0  0.458  6.998  45.8  6.0622    3  222     18.7   \n",
       "4  0.06905   0.0   2.18   0.0  0.458  7.147  54.2  6.0622    3  222     18.7   \n",
       "\n",
       "        B  LSTAT  MEDV  \n",
       "0  396.90   4.98  24.0  \n",
       "1  396.90   9.14  21.6  \n",
       "2  392.83   4.03  34.7  \n",
       "3  394.63   2.94  33.4  \n",
       "4  396.90    NaN  36.2  "
      ]
     },
     "execution_count": 7,
     "metadata": {},
     "output_type": "execute_result"
    }
   ],
   "source": [
    "data.head()"
   ]
  },
  {
   "cell_type": "code",
   "execution_count": 10,
   "id": "f338e080",
   "metadata": {},
   "outputs": [
    {
     "data": {
      "text/plain": [
       "CRIM       20\n",
       "ZN         20\n",
       "INDUS      20\n",
       "CHAS       20\n",
       "NOX         0\n",
       "RM          0\n",
       "AGE        20\n",
       "DIS         0\n",
       "RAD         0\n",
       "TAX         0\n",
       "PTRATIO     0\n",
       "B           0\n",
       "LSTAT      20\n",
       "MEDV        0\n",
       "dtype: int64"
      ]
     },
     "execution_count": 10,
     "metadata": {},
     "output_type": "execute_result"
    }
   ],
   "source": [
    "data.isnull().sum()"
   ]
  },
  {
   "cell_type": "code",
   "execution_count": 17,
   "id": "292a65a9",
   "metadata": {},
   "outputs": [],
   "source": [
    "data.dropna(inplace=True)"
   ]
  },
  {
   "cell_type": "code",
   "execution_count": 18,
   "id": "b634caa4",
   "metadata": {},
   "outputs": [
    {
     "data": {
      "text/plain": [
       "CRIM       0\n",
       "ZN         0\n",
       "INDUS      0\n",
       "CHAS       0\n",
       "NOX        0\n",
       "RM         0\n",
       "AGE        0\n",
       "DIS        0\n",
       "RAD        0\n",
       "TAX        0\n",
       "PTRATIO    0\n",
       "B          0\n",
       "LSTAT      0\n",
       "MEDV       0\n",
       "dtype: int64"
      ]
     },
     "execution_count": 18,
     "metadata": {},
     "output_type": "execute_result"
    }
   ],
   "source": [
    "data.isnull().sum()"
   ]
  },
  {
   "cell_type": "code",
   "execution_count": 19,
   "id": "8047cb05",
   "metadata": {},
   "outputs": [],
   "source": [
    "x=data.drop('MEDV',axis=1)\n"
   ]
  },
  {
   "cell_type": "code",
   "execution_count": 20,
   "id": "71151c57",
   "metadata": {},
   "outputs": [],
   "source": [
    "y=data['MEDV']"
   ]
  },
  {
   "cell_type": "code",
   "execution_count": 21,
   "id": "a083a5ad",
   "metadata": {},
   "outputs": [],
   "source": [
    "x_train,x_test,y_train,y_test = train_test_split(x,y,test_size=0.2,random_state=1)"
   ]
  },
  {
   "cell_type": "code",
   "execution_count": 22,
   "id": "edd28f12",
   "metadata": {},
   "outputs": [],
   "source": [
    "\n",
    "scaler=StandardScaler()\n",
    "x_train = scaler.fit_transform(x_train)\n",
    "x_test = scaler.fit_transform(x_test)"
   ]
  },
  {
   "cell_type": "code",
   "execution_count": 28,
   "id": "acb4a7ff",
   "metadata": {},
   "outputs": [
    {
     "name": "stdout",
     "output_type": "stream",
     "text": [
      "shape of scaled x train: (315, 13)\n",
      "shape of scaled x test: (79, 13)\n"
     ]
    }
   ],
   "source": [
    "print(\"shape of scaled x train:\",x_train.shape)\n",
    "print(\"shape of scaled x test:\",x_test.shape)"
   ]
  },
  {
   "cell_type": "code",
   "execution_count": 29,
   "id": "2a8dc3d2",
   "metadata": {},
   "outputs": [
    {
     "data": {
      "text/plain": [
       "array([ 0.69635595, -0.47901924,  1.00093935, -0.25335585,  1.68816923,\n",
       "        0.25832713,  0.91959478, -0.85032271,  1.6641432 ,  1.50643985,\n",
       "        0.75190813, -3.35027995,  1.59933497])"
      ]
     },
     "execution_count": 29,
     "metadata": {},
     "output_type": "execute_result"
    }
   ],
   "source": [
    "x_train[0]"
   ]
  },
  {
   "cell_type": "code",
   "execution_count": 31,
   "id": "28aff816",
   "metadata": {},
   "outputs": [
    {
     "data": {
      "text/plain": [
       "(13,)"
      ]
     },
     "execution_count": 31,
     "metadata": {},
     "output_type": "execute_result"
    }
   ],
   "source": [
    "x_train[0].shape"
   ]
  },
  {
   "cell_type": "code",
   "execution_count": 43,
   "id": "40f24627",
   "metadata": {},
   "outputs": [],
   "source": [
    "#model\n",
    "\n",
    "from keras.models import Sequential\n",
    "from keras.layers import Dense\n",
    "from tensorflow.keras.layers import *\n",
    "\n",
    "def house_price_prediction():\n",
    "    model=Sequential()\n",
    "    model.add(Dense(128,activation='relu',input_shape=(x_train[0].shape)))\n",
    "    model.add(Dense(64,activation='relu'))\n",
    "    model.add(Dense(32,activation='relu'))\n",
    "    model.add(Dense(16,activation='relu'))\n",
    "    model.add(Dense(1))\n",
    "    \n",
    "    model.compile(optimizer = 'adam', loss='mse', metrics=['mse'])\n",
    "    return model"
   ]
  },
  {
   "cell_type": "code",
   "execution_count": null,
   "id": "edf8d520",
   "metadata": {},
   "outputs": [],
   "source": [
    "\n"
   ]
  },
  {
   "cell_type": "code",
   "execution_count": 45,
   "id": "f402c5d3",
   "metadata": {},
   "outputs": [
    {
     "name": "stdout",
     "output_type": "stream",
     "text": [
      "Epoch 1/100\n",
      "WARNING:tensorflow:From C:\\Users\\Ownerqp\\AppData\\Local\\Programs\\Python\\Python311\\Lib\\site-packages\\keras\\src\\utils\\tf_utils.py:492: The name tf.ragged.RaggedTensorValue is deprecated. Please use tf.compat.v1.ragged.RaggedTensorValue instead.\n",
      "\n",
      "WARNING:tensorflow:From C:\\Users\\Ownerqp\\AppData\\Local\\Programs\\Python\\Python311\\Lib\\site-packages\\keras\\src\\engine\\base_layer_utils.py:384: The name tf.executing_eagerly_outside_functions is deprecated. Please use tf.compat.v1.executing_eagerly_outside_functions instead.\n",
      "\n",
      "315/315 [==============================] - 7s 8ms/step - loss: 113.8153 - mse: 113.8153 - val_loss: 21.4047 - val_mse: 21.4047\n",
      "Epoch 2/100\n",
      "315/315 [==============================] - 2s 6ms/step - loss: 20.2751 - mse: 20.2751 - val_loss: 13.1461 - val_mse: 13.1461\n",
      "Epoch 3/100\n",
      "315/315 [==============================] - 2s 6ms/step - loss: 17.1329 - mse: 17.1329 - val_loss: 12.7799 - val_mse: 12.7799\n",
      "Epoch 4/100\n",
      "315/315 [==============================] - 2s 6ms/step - loss: 14.6385 - mse: 14.6385 - val_loss: 19.5257 - val_mse: 19.5257\n",
      "Epoch 5/100\n",
      "315/315 [==============================] - 2s 6ms/step - loss: 13.0157 - mse: 13.0157 - val_loss: 14.0256 - val_mse: 14.0256\n",
      "Epoch 6/100\n",
      "315/315 [==============================] - 2s 6ms/step - loss: 11.3804 - mse: 11.3804 - val_loss: 10.6065 - val_mse: 10.6065\n",
      "Epoch 7/100\n",
      "315/315 [==============================] - 2s 5ms/step - loss: 10.7528 - mse: 10.7528 - val_loss: 10.6453 - val_mse: 10.6453\n",
      "Epoch 8/100\n",
      "315/315 [==============================] - 2s 5ms/step - loss: 9.8410 - mse: 9.8410 - val_loss: 14.0519 - val_mse: 14.0519\n",
      "Epoch 9/100\n",
      "315/315 [==============================] - 2s 6ms/step - loss: 9.8733 - mse: 9.8733 - val_loss: 14.2758 - val_mse: 14.2758\n",
      "Epoch 10/100\n",
      "315/315 [==============================] - 2s 6ms/step - loss: 10.9507 - mse: 10.9507 - val_loss: 10.0483 - val_mse: 10.0483\n",
      "Epoch 11/100\n",
      "315/315 [==============================] - 2s 6ms/step - loss: 8.9059 - mse: 8.9059 - val_loss: 9.6797 - val_mse: 9.6797\n",
      "Epoch 12/100\n",
      "315/315 [==============================] - 2s 6ms/step - loss: 8.2720 - mse: 8.2720 - val_loss: 14.6754 - val_mse: 14.6754\n",
      "Epoch 13/100\n",
      "315/315 [==============================] - 2s 6ms/step - loss: 7.4982 - mse: 7.4982 - val_loss: 13.8484 - val_mse: 13.8484\n",
      "Epoch 14/100\n",
      "315/315 [==============================] - 2s 6ms/step - loss: 7.1615 - mse: 7.1615 - val_loss: 11.0617 - val_mse: 11.0617\n",
      "Epoch 15/100\n",
      "315/315 [==============================] - 2s 6ms/step - loss: 6.9541 - mse: 6.9541 - val_loss: 19.4420 - val_mse: 19.4420\n",
      "Epoch 16/100\n",
      "315/315 [==============================] - 2s 6ms/step - loss: 7.0703 - mse: 7.0703 - val_loss: 12.7780 - val_mse: 12.7780\n",
      "Epoch 17/100\n",
      "315/315 [==============================] - 2s 6ms/step - loss: 5.8681 - mse: 5.8681 - val_loss: 12.2903 - val_mse: 12.2903\n",
      "Epoch 18/100\n",
      "315/315 [==============================] - 2s 6ms/step - loss: 7.1374 - mse: 7.1374 - val_loss: 10.4777 - val_mse: 10.4777\n",
      "Epoch 19/100\n",
      "315/315 [==============================] - 2s 6ms/step - loss: 5.8331 - mse: 5.8331 - val_loss: 13.8116 - val_mse: 13.8116\n",
      "Epoch 20/100\n",
      "315/315 [==============================] - 2s 6ms/step - loss: 6.0156 - mse: 6.0156 - val_loss: 9.6802 - val_mse: 9.6802\n",
      "Epoch 21/100\n",
      "315/315 [==============================] - 2s 6ms/step - loss: 4.6593 - mse: 4.6593 - val_loss: 11.5539 - val_mse: 11.5539\n",
      "Epoch 22/100\n",
      "315/315 [==============================] - 2s 6ms/step - loss: 5.3984 - mse: 5.3984 - val_loss: 9.4340 - val_mse: 9.4340\n",
      "Epoch 23/100\n",
      "315/315 [==============================] - 2s 6ms/step - loss: 6.1596 - mse: 6.1596 - val_loss: 9.0421 - val_mse: 9.0421\n",
      "Epoch 24/100\n",
      "315/315 [==============================] - 2s 6ms/step - loss: 6.1565 - mse: 6.1565 - val_loss: 10.4624 - val_mse: 10.4624\n",
      "Epoch 25/100\n",
      "315/315 [==============================] - 2s 6ms/step - loss: 4.7151 - mse: 4.7151 - val_loss: 15.9861 - val_mse: 15.9861\n",
      "Epoch 26/100\n",
      "315/315 [==============================] - 2s 6ms/step - loss: 5.6427 - mse: 5.6427 - val_loss: 7.7538 - val_mse: 7.7538\n",
      "Epoch 27/100\n",
      "315/315 [==============================] - 2s 6ms/step - loss: 4.2036 - mse: 4.2036 - val_loss: 8.9762 - val_mse: 8.9762\n",
      "Epoch 28/100\n",
      "315/315 [==============================] - 2s 6ms/step - loss: 4.1401 - mse: 4.1401 - val_loss: 9.2462 - val_mse: 9.2462\n",
      "Epoch 29/100\n",
      "315/315 [==============================] - 2s 6ms/step - loss: 4.1624 - mse: 4.1624 - val_loss: 9.6297 - val_mse: 9.6297\n",
      "Epoch 30/100\n",
      "315/315 [==============================] - 2s 6ms/step - loss: 4.3921 - mse: 4.3921 - val_loss: 12.5083 - val_mse: 12.5083\n",
      "Epoch 31/100\n",
      "315/315 [==============================] - 2s 6ms/step - loss: 3.8500 - mse: 3.8500 - val_loss: 12.0965 - val_mse: 12.0965\n",
      "Epoch 32/100\n",
      "315/315 [==============================] - 2s 6ms/step - loss: 3.8502 - mse: 3.8502 - val_loss: 9.1278 - val_mse: 9.1278\n",
      "Epoch 33/100\n",
      "315/315 [==============================] - 2s 6ms/step - loss: 4.3659 - mse: 4.3659 - val_loss: 9.3614 - val_mse: 9.3614\n",
      "Epoch 34/100\n",
      "315/315 [==============================] - 2s 6ms/step - loss: 3.6304 - mse: 3.6304 - val_loss: 9.8731 - val_mse: 9.8731\n",
      "Epoch 35/100\n",
      "315/315 [==============================] - 2s 6ms/step - loss: 4.5094 - mse: 4.5094 - val_loss: 10.6175 - val_mse: 10.6175\n",
      "Epoch 36/100\n",
      "315/315 [==============================] - 2s 6ms/step - loss: 4.5141 - mse: 4.5141 - val_loss: 8.8177 - val_mse: 8.8177\n",
      "Epoch 37/100\n",
      "315/315 [==============================] - 2s 6ms/step - loss: 4.0601 - mse: 4.0601 - val_loss: 10.2631 - val_mse: 10.2631\n",
      "Epoch 38/100\n",
      "315/315 [==============================] - 2s 6ms/step - loss: 5.3093 - mse: 5.3093 - val_loss: 10.8138 - val_mse: 10.8138\n",
      "Epoch 39/100\n",
      "315/315 [==============================] - 2s 6ms/step - loss: 4.6464 - mse: 4.6464 - val_loss: 8.2785 - val_mse: 8.2785\n",
      "Epoch 40/100\n",
      "315/315 [==============================] - 2s 6ms/step - loss: 3.5901 - mse: 3.5901 - val_loss: 10.8326 - val_mse: 10.8326\n",
      "Epoch 41/100\n",
      "315/315 [==============================] - 2s 6ms/step - loss: 3.7460 - mse: 3.7460 - val_loss: 9.2629 - val_mse: 9.2629\n",
      "Epoch 42/100\n",
      "315/315 [==============================] - 2s 6ms/step - loss: 3.6074 - mse: 3.6074 - val_loss: 9.8006 - val_mse: 9.8006\n",
      "Epoch 43/100\n",
      "315/315 [==============================] - 2s 6ms/step - loss: 3.8467 - mse: 3.8467 - val_loss: 9.4614 - val_mse: 9.4614\n",
      "Epoch 44/100\n",
      "315/315 [==============================] - 2s 6ms/step - loss: 2.9963 - mse: 2.9963 - val_loss: 9.3883 - val_mse: 9.3883\n",
      "Epoch 45/100\n",
      "315/315 [==============================] - 2s 6ms/step - loss: 3.2198 - mse: 3.2198 - val_loss: 8.6718 - val_mse: 8.6718\n",
      "Epoch 46/100\n",
      "315/315 [==============================] - 2s 6ms/step - loss: 4.7019 - mse: 4.7019 - val_loss: 10.6358 - val_mse: 10.6358\n",
      "Epoch 47/100\n",
      "315/315 [==============================] - 2s 6ms/step - loss: 3.2781 - mse: 3.2781 - val_loss: 9.9665 - val_mse: 9.9665\n",
      "Epoch 48/100\n",
      "315/315 [==============================] - 2s 6ms/step - loss: 3.3323 - mse: 3.3323 - val_loss: 11.1924 - val_mse: 11.1924\n",
      "Epoch 49/100\n",
      "315/315 [==============================] - 2s 6ms/step - loss: 3.2278 - mse: 3.2278 - val_loss: 12.8352 - val_mse: 12.8352\n",
      "Epoch 50/100\n",
      "315/315 [==============================] - 2s 6ms/step - loss: 3.3700 - mse: 3.3700 - val_loss: 9.5025 - val_mse: 9.5025\n",
      "Epoch 51/100\n",
      "315/315 [==============================] - 2s 6ms/step - loss: 3.0367 - mse: 3.0367 - val_loss: 14.2384 - val_mse: 14.2384\n",
      "Epoch 52/100\n",
      "315/315 [==============================] - 2s 6ms/step - loss: 3.3109 - mse: 3.3109 - val_loss: 9.2284 - val_mse: 9.2284\n",
      "Epoch 53/100\n",
      "315/315 [==============================] - 2s 6ms/step - loss: 2.8744 - mse: 2.8744 - val_loss: 12.7688 - val_mse: 12.7688\n",
      "Epoch 54/100\n",
      "315/315 [==============================] - 2s 6ms/step - loss: 3.0708 - mse: 3.0708 - val_loss: 9.2451 - val_mse: 9.2451\n",
      "Epoch 55/100\n",
      "315/315 [==============================] - 2s 6ms/step - loss: 3.6926 - mse: 3.6926 - val_loss: 10.9167 - val_mse: 10.9167\n",
      "Epoch 56/100\n",
      "315/315 [==============================] - 2s 6ms/step - loss: 3.2051 - mse: 3.2051 - val_loss: 10.3411 - val_mse: 10.3411\n",
      "Epoch 57/100\n",
      "315/315 [==============================] - 2s 6ms/step - loss: 4.0131 - mse: 4.0131 - val_loss: 9.0764 - val_mse: 9.0764\n"
     ]
    },
    {
     "name": "stdout",
     "output_type": "stream",
     "text": [
      "Epoch 58/100\n",
      "315/315 [==============================] - 2s 6ms/step - loss: 3.8626 - mse: 3.8626 - val_loss: 10.6437 - val_mse: 10.6437\n",
      "Epoch 59/100\n",
      "315/315 [==============================] - 2s 6ms/step - loss: 2.9690 - mse: 2.9690 - val_loss: 26.1136 - val_mse: 26.1136\n",
      "Epoch 60/100\n",
      "315/315 [==============================] - 2s 6ms/step - loss: 2.7163 - mse: 2.7163 - val_loss: 11.5013 - val_mse: 11.5013\n",
      "Epoch 61/100\n",
      "315/315 [==============================] - 2s 6ms/step - loss: 2.7499 - mse: 2.7499 - val_loss: 8.6615 - val_mse: 8.6615\n",
      "Epoch 62/100\n",
      "315/315 [==============================] - 2s 6ms/step - loss: 2.7008 - mse: 2.7008 - val_loss: 8.4763 - val_mse: 8.4763\n",
      "Epoch 63/100\n",
      "315/315 [==============================] - 2s 6ms/step - loss: 2.4575 - mse: 2.4575 - val_loss: 9.7145 - val_mse: 9.7145\n",
      "Epoch 64/100\n",
      "315/315 [==============================] - 2s 6ms/step - loss: 2.7869 - mse: 2.7869 - val_loss: 9.3513 - val_mse: 9.3513\n",
      "Epoch 65/100\n",
      "315/315 [==============================] - 2s 6ms/step - loss: 2.9158 - mse: 2.9158 - val_loss: 9.3309 - val_mse: 9.3309\n",
      "Epoch 66/100\n",
      "315/315 [==============================] - 2s 6ms/step - loss: 2.8209 - mse: 2.8209 - val_loss: 8.8877 - val_mse: 8.8877\n",
      "Epoch 67/100\n",
      "315/315 [==============================] - 2s 6ms/step - loss: 2.8452 - mse: 2.8452 - val_loss: 9.6093 - val_mse: 9.6093\n",
      "Epoch 68/100\n",
      "315/315 [==============================] - 2s 6ms/step - loss: 3.2163 - mse: 3.2163 - val_loss: 13.2270 - val_mse: 13.2270\n",
      "Epoch 69/100\n",
      "315/315 [==============================] - 2s 6ms/step - loss: 2.5368 - mse: 2.5368 - val_loss: 10.8369 - val_mse: 10.8369\n",
      "Epoch 70/100\n",
      "315/315 [==============================] - 2s 6ms/step - loss: 3.3751 - mse: 3.3751 - val_loss: 11.8577 - val_mse: 11.8577\n",
      "Epoch 71/100\n",
      "315/315 [==============================] - 2s 6ms/step - loss: 2.2824 - mse: 2.2824 - val_loss: 8.7598 - val_mse: 8.7598\n",
      "Epoch 72/100\n",
      "315/315 [==============================] - 2s 6ms/step - loss: 2.2575 - mse: 2.2575 - val_loss: 8.5499 - val_mse: 8.5499\n",
      "Epoch 73/100\n",
      "315/315 [==============================] - 2s 6ms/step - loss: 2.0620 - mse: 2.0620 - val_loss: 7.9045 - val_mse: 7.9045\n",
      "Epoch 74/100\n",
      "315/315 [==============================] - 2s 6ms/step - loss: 1.8823 - mse: 1.8823 - val_loss: 8.4735 - val_mse: 8.4735\n",
      "Epoch 75/100\n",
      "315/315 [==============================] - 2s 6ms/step - loss: 2.6573 - mse: 2.6573 - val_loss: 8.8425 - val_mse: 8.8425\n",
      "Epoch 76/100\n",
      "315/315 [==============================] - 2s 6ms/step - loss: 3.1440 - mse: 3.1440 - val_loss: 8.2542 - val_mse: 8.2542\n",
      "Epoch 77/100\n",
      "315/315 [==============================] - 2s 6ms/step - loss: 2.3934 - mse: 2.3934 - val_loss: 7.3929 - val_mse: 7.3929\n",
      "Epoch 78/100\n",
      "315/315 [==============================] - 2s 6ms/step - loss: 2.0181 - mse: 2.0181 - val_loss: 7.6215 - val_mse: 7.6215\n",
      "Epoch 79/100\n",
      "315/315 [==============================] - 2s 6ms/step - loss: 3.4071 - mse: 3.4071 - val_loss: 9.3509 - val_mse: 9.3509\n",
      "Epoch 80/100\n",
      "315/315 [==============================] - 2s 6ms/step - loss: 2.0482 - mse: 2.0482 - val_loss: 9.8059 - val_mse: 9.8059\n",
      "Epoch 81/100\n",
      "315/315 [==============================] - 2s 6ms/step - loss: 1.8288 - mse: 1.8288 - val_loss: 10.2899 - val_mse: 10.2899\n",
      "Epoch 82/100\n",
      "315/315 [==============================] - 2s 6ms/step - loss: 2.4945 - mse: 2.4945 - val_loss: 9.4912 - val_mse: 9.4912\n",
      "Epoch 83/100\n",
      "315/315 [==============================] - 2s 6ms/step - loss: 2.9264 - mse: 2.9264 - val_loss: 7.2355 - val_mse: 7.2355\n",
      "Epoch 84/100\n",
      "315/315 [==============================] - 2s 6ms/step - loss: 2.4955 - mse: 2.4955 - val_loss: 9.4234 - val_mse: 9.4234\n",
      "Epoch 85/100\n",
      "315/315 [==============================] - 2s 6ms/step - loss: 2.4913 - mse: 2.4913 - val_loss: 11.3757 - val_mse: 11.3757\n",
      "Epoch 86/100\n",
      "315/315 [==============================] - 2s 6ms/step - loss: 2.2711 - mse: 2.2711 - val_loss: 7.5799 - val_mse: 7.5799\n",
      "Epoch 87/100\n",
      "315/315 [==============================] - 2s 6ms/step - loss: 2.4977 - mse: 2.4977 - val_loss: 8.7774 - val_mse: 8.7774\n",
      "Epoch 88/100\n",
      "315/315 [==============================] - 2s 6ms/step - loss: 1.5847 - mse: 1.5847 - val_loss: 8.4694 - val_mse: 8.4694\n",
      "Epoch 89/100\n",
      "315/315 [==============================] - 2s 5ms/step - loss: 1.6937 - mse: 1.6937 - val_loss: 8.1665 - val_mse: 8.1665\n",
      "Epoch 90/100\n",
      "315/315 [==============================] - 2s 6ms/step - loss: 1.5657 - mse: 1.5657 - val_loss: 9.2259 - val_mse: 9.2259\n",
      "Epoch 91/100\n",
      "315/315 [==============================] - 2s 6ms/step - loss: 1.9928 - mse: 1.9928 - val_loss: 9.1698 - val_mse: 9.1698\n",
      "Epoch 92/100\n",
      "315/315 [==============================] - 2s 6ms/step - loss: 3.1516 - mse: 3.1516 - val_loss: 11.8418 - val_mse: 11.8418\n",
      "Epoch 93/100\n",
      "315/315 [==============================] - 2s 6ms/step - loss: 3.9176 - mse: 3.9176 - val_loss: 10.8377 - val_mse: 10.8377\n",
      "Epoch 94/100\n",
      "315/315 [==============================] - 2s 6ms/step - loss: 1.5096 - mse: 1.5096 - val_loss: 9.2910 - val_mse: 9.2910\n",
      "Epoch 95/100\n",
      "315/315 [==============================] - 2s 6ms/step - loss: 1.4522 - mse: 1.4522 - val_loss: 8.9069 - val_mse: 8.9069\n",
      "Epoch 96/100\n",
      "315/315 [==============================] - 2s 6ms/step - loss: 1.4827 - mse: 1.4827 - val_loss: 8.4025 - val_mse: 8.4025\n",
      "Epoch 97/100\n",
      "315/315 [==============================] - 2s 6ms/step - loss: 1.8073 - mse: 1.8073 - val_loss: 8.7850 - val_mse: 8.7850\n",
      "Epoch 98/100\n",
      "315/315 [==============================] - 2s 6ms/step - loss: 2.0903 - mse: 2.0903 - val_loss: 8.2805 - val_mse: 8.2805\n",
      "Epoch 99/100\n",
      "315/315 [==============================] - 2s 6ms/step - loss: 1.6279 - mse: 1.6279 - val_loss: 7.7469 - val_mse: 7.7469\n",
      "Epoch 100/100\n",
      "315/315 [==============================] - 2s 6ms/step - loss: 1.3366 - mse: 1.3366 - val_loss: 7.7227 - val_mse: 7.7227\n"
     ]
    }
   ],
   "source": [
    "model= house_price_prediction()\n",
    "history = model.fit(x=x_train,y=y_train,batch_size=1,verbose=1,epochs=100,validation_data=(x_test,y_test))"
   ]
  },
  {
   "cell_type": "code",
   "execution_count": 46,
   "id": "48c11189",
   "metadata": {},
   "outputs": [
    {
     "name": "stdout",
     "output_type": "stream",
     "text": [
      "actual output: 24.0\n",
      "1/1 [==============================] - 0s 463ms/step\n",
      "predicted output: [[15.4272175]]\n"
     ]
    }
   ],
   "source": [
    "test_input = [[0.00154995, 0.        , 0.28962963, 0.        , 0.27777778,\n",
    "       0.56936665, 0.70442842, 0.15699879, 0.17391304, 0.3759542 ,\n",
    "       0.88297872, 0.99665297, 0.16851064]]\n",
    "print(\"actual output:\",24.0)\n",
    "print(\"predicted output:\",model.predict(test_input))"
   ]
  },
  {
   "cell_type": "code",
   "execution_count": 47,
   "id": "aa93a1f4",
   "metadata": {},
   "outputs": [
    {
     "data": {
      "image/png": "[encoded data removed]",
      "text/plain": [
       "<Figure size 640x480 with 1 Axes>"
      ]
     },
     "metadata": {},
     "output_type": "display_data"
    }
   ],
   "source": [
    "import matplotlib.pyplot as plt\n",
    "\n",
    "# Plot training & validation loss values\n",
    "plt.plot(history.history['loss'])\n",
    "plt.plot(history.history['val_loss'])\n",
    "plt.title('Model Loss')\n",
    "plt.xlabel('Epoch')\n",
    "plt.ylabel('Loss')\n",
    "plt.legend(['Train', 'Validation'], loc='upper left')\n",
    "plt.show()\n"
   ]
  },
  {
   "cell_type": "code",
   "execution_count": 49,
   "id": "6af30c41",
   "metadata": {},
   "outputs": [
    {
     "name": "stdout",
     "output_type": "stream",
     "text": [
      "3/3 [==============================] - 1s 4ms/step - loss: 7.7227 - mse: 7.7227\n",
      "Mean squared error on test data:  7.722715854644775\n",
      "Mean absolute error on test data:  7.722715854644775\n"
     ]
    }
   ],
   "source": [
    "mse_nn, mae_nn = model.evaluate(x_test, y_test)\n",
    "\n",
    "print('Mean squared error on test data: ', mse_nn)\n",
    "print('Mean absolute error on test data: ', mae_nn)"
   ]
  },
  {
   "cell_type": "code",
   "execution_count": null,
   "id": "69af3698",
   "metadata": {},
   "outputs": [],
   "source": []
  }
 ],
 "metadata": {
  "kernelspec": {
   "display_name": "Python 3 (ipykernel)",
   "language": "python",
   "name": "python3"
  },
  "language_info": {
   "codemirror_mode": {
    "name": "ipython",
    "version": 3
   },
   "file_extension": ".py",
   "mimetype": "text/x-python",
   "name": "python",
   "nbconvert_exporter": "python",
   "pygments_lexer": "ipython3",
   "version": "3.11.1"
  }
 },
 "nbformat": 4,
 "nbformat_minor": 5
}
