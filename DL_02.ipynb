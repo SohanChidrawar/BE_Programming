{
  "nbformat": 4,
  "nbformat_minor": 0,
  "metadata": {
    "colab": {
      "provenance": [],
      "authorship_tag": "ABX9TyOTjfS6zAwdl17Pk4JG6di/"
    },
    "kernelspec": {
      "name": "python3",
      "display_name": "Python 3"
    },
    "language_info": {
      "name": "python"
    }
  },
  "cells": [
    {
      "cell_type": "code",
      "execution_count": 1,
      "metadata": {
        "id": "kK9Nv-71UFe1"
      },
      "outputs": [],
      "source": [
        "import pandas as pd\n",
        "import numpy as np\n",
        "from sklearn.preprocessing import LabelEncoder\n",
        "from sklearn.model_selection import train_test_split\n",
        "from sklearn.metrics import accuracy_score"
      ]
    },
    {
      "cell_type": "code",
      "source": [
        "url = \"https://archive.ics.uci.edu/ml/machine-learning-databases/letter-recognition/letter-recognition.data\""
      ],
      "metadata": {
        "id": "Mn0HMSaRUY-7"
      },
      "execution_count": 2,
      "outputs": []
    },
    {
      "cell_type": "code",
      "source": [
        "# Define column names based on dataset description\n",
        "names = ['letter', 'x-box', 'y-box', 'width', 'height', 'onpix', 'x-bar', 'y-bar', 'x2bar', 'y2bar', 'xybar', 'x2ybr', 'xy2br', 'x-ege', 'xegvy', 'y-ege', 'yegvx']\n"
      ],
      "metadata": {
        "id": "bjO58dMgUg1W"
      },
      "execution_count": 3,
      "outputs": []
    },
    {
      "cell_type": "code",
      "source": [
        "data = pd.read_csv(url,names=names)"
      ],
      "metadata": {
        "id": "mKxAooXUUmH5"
      },
      "execution_count": 4,
      "outputs": []
    },
    {
      "cell_type": "code",
      "source": [
        "#seaparte features and target\n",
        "X = data.drop('letter',axis=1)\n",
        "y= data['letter']"
      ],
      "metadata": {
        "id": "hnjAsmMDUqKk"
      },
      "execution_count": 5,
      "outputs": []
    },
    {
      "cell_type": "code",
      "source": [
        "#Encode target labels\n",
        "label_encoder = LabelEncoder()\n",
        "y_encoded = label_encoder.fit_transform(y)"
      ],
      "metadata": {
        "id": "V3w2BJyMUySz"
      },
      "execution_count": 6,
      "outputs": []
    },
    {
      "cell_type": "code",
      "source": [
        "X_train,X_test,y_train,y_test = train_test_split(X,y_encoded,test_size=0.2,random_state=42)"
      ],
      "metadata": {
        "id": "4rIss4W_U9Av"
      },
      "execution_count": 8,
      "outputs": []
    },
    {
      "cell_type": "code",
      "source": [
        "from tensorflow.keras import Sequential\n",
        "from tensorflow.keras.layers import Dense"
      ],
      "metadata": {
        "id": "osOCxUg-VJMp"
      },
      "execution_count": 9,
      "outputs": []
    },
    {
      "cell_type": "code",
      "source": [
        "#DEfine model\n",
        "model = Sequential([\n",
        "    # First hidden layer with 64 neurons and ReLU activation function\n",
        "    Dense(64,activation='relu',input_shape=(X_train.shape[1],)),\n",
        "    # Second hidden layer with 64 neurons and ReLU activation function\n",
        "    Dense(64,activation='relu'),\n",
        "    # Output layer with neurons equal to the number of classes (26 for letters\n",
        "    # A-Z) and softmax activation function\n",
        "    Dense(len(label_encoder.classes_), activation='softmax')\n",
        "])"
      ],
      "metadata": {
        "id": "3iyxO-gaVQ8P"
      },
      "execution_count": 10,
      "outputs": []
    },
    {
      "cell_type": "code",
      "source": [
        "#Compile the model\n",
        "model.compile(optimizer='adam',\n",
        "              loss='sparse_categorical_crossentropy',\n",
        "              metrics=['accuracy'])"
      ],
      "metadata": {
        "id": "gqf0_DqfVnte"
      },
      "execution_count": 13,
      "outputs": []
    },
    {
      "cell_type": "code",
      "source": [
        "#Train the model\n",
        "model.fit(X_train,y_train, epochs=20, batch_size=32, validation_split=0.1)"
      ],
      "metadata": {
        "colab": {
          "base_uri": "https://localhost:8080/",
          "height": 0
        },
        "id": "rcFUUOZ5VzJb",
        "outputId": "310ed345-7218-42fa-c8e4-eaf544573e62"
      },
      "execution_count": 14,
      "outputs": [
        {
          "output_type": "stream",
          "name": "stdout",
          "text": [
            "Epoch 1/20\n",
            "450/450 [==============================] - 2s 3ms/step - loss: 1.9684 - accuracy: 0.4705 - val_loss: 1.1906 - val_accuracy: 0.6781\n",
            "Epoch 2/20\n",
            "450/450 [==============================] - 1s 3ms/step - loss: 1.0331 - accuracy: 0.7117 - val_loss: 1.0015 - val_accuracy: 0.7169\n",
            "Epoch 3/20\n",
            "450/450 [==============================] - 1s 3ms/step - loss: 0.8578 - accuracy: 0.7599 - val_loss: 0.8194 - val_accuracy: 0.7588\n",
            "Epoch 4/20\n",
            "450/450 [==============================] - 1s 3ms/step - loss: 0.7550 - accuracy: 0.7826 - val_loss: 0.7467 - val_accuracy: 0.7806\n",
            "Epoch 5/20\n",
            "450/450 [==============================] - 1s 2ms/step - loss: 0.6816 - accuracy: 0.8034 - val_loss: 0.6605 - val_accuracy: 0.8075\n",
            "Epoch 6/20\n",
            "450/450 [==============================] - 1s 2ms/step - loss: 0.6249 - accuracy: 0.8157 - val_loss: 0.6219 - val_accuracy: 0.8213\n",
            "Epoch 7/20\n",
            "450/450 [==============================] - 1s 2ms/step - loss: 0.5671 - accuracy: 0.8294 - val_loss: 0.5791 - val_accuracy: 0.8269\n",
            "Epoch 8/20\n",
            "450/450 [==============================] - 1s 2ms/step - loss: 0.5353 - accuracy: 0.8398 - val_loss: 0.5248 - val_accuracy: 0.8469\n",
            "Epoch 9/20\n",
            "450/450 [==============================] - 1s 2ms/step - loss: 0.4999 - accuracy: 0.8515 - val_loss: 0.4933 - val_accuracy: 0.8519\n",
            "Epoch 10/20\n",
            "450/450 [==============================] - 1s 2ms/step - loss: 0.4595 - accuracy: 0.8614 - val_loss: 0.4509 - val_accuracy: 0.8544\n",
            "Epoch 11/20\n",
            "450/450 [==============================] - 1s 2ms/step - loss: 0.4360 - accuracy: 0.8657 - val_loss: 0.4528 - val_accuracy: 0.8562\n",
            "Epoch 12/20\n",
            "450/450 [==============================] - 1s 2ms/step - loss: 0.4039 - accuracy: 0.8729 - val_loss: 0.3967 - val_accuracy: 0.8813\n",
            "Epoch 13/20\n",
            "450/450 [==============================] - 1s 2ms/step - loss: 0.3897 - accuracy: 0.8807 - val_loss: 0.3859 - val_accuracy: 0.8844\n",
            "Epoch 14/20\n",
            "450/450 [==============================] - 1s 2ms/step - loss: 0.3683 - accuracy: 0.8835 - val_loss: 0.3782 - val_accuracy: 0.8881\n",
            "Epoch 15/20\n",
            "450/450 [==============================] - 1s 3ms/step - loss: 0.3495 - accuracy: 0.8926 - val_loss: 0.3519 - val_accuracy: 0.8881\n",
            "Epoch 16/20\n",
            "450/450 [==============================] - 1s 3ms/step - loss: 0.3299 - accuracy: 0.8937 - val_loss: 0.3412 - val_accuracy: 0.8919\n",
            "Epoch 17/20\n",
            "450/450 [==============================] - 1s 2ms/step - loss: 0.3204 - accuracy: 0.8977 - val_loss: 0.3269 - val_accuracy: 0.8925\n",
            "Epoch 18/20\n",
            "450/450 [==============================] - 1s 2ms/step - loss: 0.3066 - accuracy: 0.9032 - val_loss: 0.3066 - val_accuracy: 0.9081\n",
            "Epoch 19/20\n",
            "450/450 [==============================] - 1s 2ms/step - loss: 0.2924 - accuracy: 0.9100 - val_loss: 0.3090 - val_accuracy: 0.9044\n",
            "Epoch 20/20\n",
            "450/450 [==============================] - 1s 2ms/step - loss: 0.2856 - accuracy: 0.9058 - val_loss: 0.2912 - val_accuracy: 0.9150\n"
          ]
        },
        {
          "output_type": "execute_result",
          "data": {
            "text/plain": [
              "<keras.src.callbacks.History at 0x7a738e468880>"
            ]
          },
          "metadata": {},
          "execution_count": 14
        }
      ]
    },
    {
      "cell_type": "code",
      "source": [
        "#Evaluate the model\n",
        "test_loss, test_acc = model.evaluate(X_test, y_test)\n",
        "print('Test Accuracy: ',test_acc)"
      ],
      "metadata": {
        "colab": {
          "base_uri": "https://localhost:8080/",
          "height": 0
        },
        "id": "deIM9hLfV66j",
        "outputId": "1077f7ad-0a4c-488f-fc1f-41bc1660a588"
      },
      "execution_count": 15,
      "outputs": [
        {
          "output_type": "stream",
          "name": "stdout",
          "text": [
            "125/125 [==============================] - 0s 1ms/step - loss: 0.3040 - accuracy: 0.9053\n",
            "Test Accuracy:  0.9052500128746033\n"
          ]
        }
      ]
    },
    {
      "cell_type": "code",
      "source": [],
      "metadata": {
        "id": "6rrN9VsuWpYG"
      },
      "execution_count": null,
      "outputs": []
    }
  ]
}