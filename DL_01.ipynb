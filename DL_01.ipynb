{
  "nbformat": 4,
  "nbformat_minor": 0,
  "metadata": {
    "colab": {
      "provenance": [],
      "authorship_tag": "ABX9TyMPBpE+j7mC5kHcrtZZbe1y"
    },
    "kernelspec": {
      "name": "python3",
      "display_name": "Python 3"
    },
    "language_info": {
      "name": "python"
    }
  },
  "cells": [
    {
      "cell_type": "code",
      "execution_count": 2,
      "metadata": {
        "id": "mmEg8Z31Mfnu"
      },
      "outputs": [],
      "source": [
        "import numpy as np\n",
        "import pandas as pd\n",
        "from sklearn.model_selection import train_test_split\n",
        "from sklearn.preprocessing import StandardScaler"
      ]
    },
    {
      "cell_type": "code",
      "source": [
        "df = pd.read_csv(\"housing.csv\")"
      ],
      "metadata": {
        "id": "q9MQ16hLM-Wk"
      },
      "execution_count": 3,
      "outputs": []
    },
    {
      "cell_type": "code",
      "source": [
        "X = df.drop('MEDV',axis=1)\n",
        "y = df['MEDV']"
      ],
      "metadata": {
        "id": "OM6mT73RNNEZ"
      },
      "execution_count": 8,
      "outputs": []
    },
    {
      "cell_type": "code",
      "source": [
        "#standardize features\n",
        "scaler = StandardScaler()\n",
        "X_scaled = scaler.fit_transform(X)"
      ],
      "metadata": {
        "id": "RZXWj7thNz54"
      },
      "execution_count": 9,
      "outputs": []
    },
    {
      "cell_type": "code",
      "source": [
        "#split the dataset into training and testing sets\n",
        "X_train,X_test,y_train,y_test=train_test_split(X_scaled,y,test_size=0.2,random_state=42)"
      ],
      "metadata": {
        "id": "-FTUyhIYN_qb"
      },
      "execution_count": 10,
      "outputs": []
    },
    {
      "cell_type": "code",
      "source": [
        "import tensorflow as tf\n",
        "from tensorflow.keras import Sequential\n",
        "from tensorflow.keras.layers import Dense"
      ],
      "metadata": {
        "id": "mwHb94B7Onuf"
      },
      "execution_count": 12,
      "outputs": []
    },
    {
      "cell_type": "code",
      "source": [
        "model = Sequential([\n",
        "    Dense(1, input_shape=(X_train.shape[1],))  # Output layer with 1 neuron for linear regression\n",
        "])"
      ],
      "metadata": {
        "id": "ncyyKYNkOtk5"
      },
      "execution_count": 15,
      "outputs": []
    },
    {
      "cell_type": "code",
      "source": [
        "model.compile(optimizer='adam',loss='mean_squared_error')"
      ],
      "metadata": {
        "id": "TCZ6XabzP2iA"
      },
      "execution_count": 16,
      "outputs": []
    },
    {
      "cell_type": "code",
      "source": [
        "history = model.fit(X_train,y_train,epochs=100, batch_size=32,validation_split=0.1)"
      ],
      "metadata": {
        "colab": {
          "base_uri": "https://localhost:8080/"
        },
        "id": "94lyhHd_QOHw",
        "outputId": "177f1f71-8fa4-4256-e61e-e9fe3ae3ca53"
      },
      "execution_count": 17,
      "outputs": [
        {
          "output_type": "stream",
          "name": "stdout",
          "text": [
            "Epoch 1/100\n",
            "11/11 [==============================] - 1s 29ms/step - loss: 239998451712.0000 - val_loss: 255237718016.0000\n",
            "Epoch 2/100\n",
            "11/11 [==============================] - 0s 8ms/step - loss: 239998402560.0000 - val_loss: 255237685248.0000\n",
            "Epoch 3/100\n",
            "11/11 [==============================] - 0s 6ms/step - loss: 239998402560.0000 - val_loss: 255237685248.0000\n",
            "Epoch 4/100\n",
            "11/11 [==============================] - 0s 8ms/step - loss: 239998369792.0000 - val_loss: 255237652480.0000\n",
            "Epoch 5/100\n",
            "11/11 [==============================] - 0s 9ms/step - loss: 239998369792.0000 - val_loss: 255237636096.0000\n",
            "Epoch 6/100\n",
            "11/11 [==============================] - 0s 7ms/step - loss: 239998337024.0000 - val_loss: 255237603328.0000\n",
            "Epoch 7/100\n",
            "11/11 [==============================] - 0s 8ms/step - loss: 239998337024.0000 - val_loss: 255237586944.0000\n",
            "Epoch 8/100\n",
            "11/11 [==============================] - 0s 8ms/step - loss: 239998320640.0000 - val_loss: 255237586944.0000\n",
            "Epoch 9/100\n",
            "11/11 [==============================] - 0s 8ms/step - loss: 239998287872.0000 - val_loss: 255237554176.0000\n",
            "Epoch 10/100\n",
            "11/11 [==============================] - 0s 8ms/step - loss: 239998287872.0000 - val_loss: 255237521408.0000\n",
            "Epoch 11/100\n",
            "11/11 [==============================] - 0s 9ms/step - loss: 239998238720.0000 - val_loss: 255237521408.0000\n",
            "Epoch 12/100\n",
            "11/11 [==============================] - 0s 8ms/step - loss: 239998271488.0000 - val_loss: 255237505024.0000\n",
            "Epoch 13/100\n",
            "11/11 [==============================] - 0s 4ms/step - loss: 239998238720.0000 - val_loss: 255237455872.0000\n",
            "Epoch 14/100\n",
            "11/11 [==============================] - 0s 6ms/step - loss: 239998222336.0000 - val_loss: 255237455872.0000\n",
            "Epoch 15/100\n",
            "11/11 [==============================] - 0s 4ms/step - loss: 239998222336.0000 - val_loss: 255237423104.0000\n",
            "Epoch 16/100\n",
            "11/11 [==============================] - 0s 4ms/step - loss: 239998189568.0000 - val_loss: 255237390336.0000\n",
            "Epoch 17/100\n",
            "11/11 [==============================] - 0s 4ms/step - loss: 239998173184.0000 - val_loss: 255237390336.0000\n",
            "Epoch 18/100\n",
            "11/11 [==============================] - 0s 6ms/step - loss: 239998140416.0000 - val_loss: 255237373952.0000\n",
            "Epoch 19/100\n",
            "11/11 [==============================] - 0s 6ms/step - loss: 239998140416.0000 - val_loss: 255237341184.0000\n",
            "Epoch 20/100\n",
            "11/11 [==============================] - 0s 6ms/step - loss: 239998140416.0000 - val_loss: 255237341184.0000\n",
            "Epoch 21/100\n",
            "11/11 [==============================] - 0s 6ms/step - loss: 239998091264.0000 - val_loss: 255237324800.0000\n",
            "Epoch 22/100\n",
            "11/11 [==============================] - 0s 5ms/step - loss: 239998074880.0000 - val_loss: 255237292032.0000\n",
            "Epoch 23/100\n",
            "11/11 [==============================] - 0s 6ms/step - loss: 239998074880.0000 - val_loss: 255237292032.0000\n",
            "Epoch 24/100\n",
            "11/11 [==============================] - 0s 6ms/step - loss: 239998074880.0000 - val_loss: 255237242880.0000\n",
            "Epoch 25/100\n",
            "11/11 [==============================] - 0s 6ms/step - loss: 239998025728.0000 - val_loss: 255237242880.0000\n",
            "Epoch 26/100\n",
            "11/11 [==============================] - 0s 4ms/step - loss: 239998009344.0000 - val_loss: 255237210112.0000\n",
            "Epoch 27/100\n",
            "11/11 [==============================] - 0s 4ms/step - loss: 239998009344.0000 - val_loss: 255237193728.0000\n",
            "Epoch 28/100\n",
            "11/11 [==============================] - 0s 4ms/step - loss: 239997976576.0000 - val_loss: 255237193728.0000\n",
            "Epoch 29/100\n",
            "11/11 [==============================] - 0s 4ms/step - loss: 239997976576.0000 - val_loss: 255237160960.0000\n",
            "Epoch 30/100\n",
            "11/11 [==============================] - 0s 6ms/step - loss: 239997976576.0000 - val_loss: 255237128192.0000\n",
            "Epoch 31/100\n",
            "11/11 [==============================] - 0s 6ms/step - loss: 239997927424.0000 - val_loss: 255237128192.0000\n",
            "Epoch 32/100\n",
            "11/11 [==============================] - 0s 6ms/step - loss: 239997927424.0000 - val_loss: 255237111808.0000\n",
            "Epoch 33/100\n",
            "11/11 [==============================] - 0s 4ms/step - loss: 239997911040.0000 - val_loss: 255237079040.0000\n",
            "Epoch 34/100\n",
            "11/11 [==============================] - 0s 5ms/step - loss: 239997911040.0000 - val_loss: 255237062656.0000\n",
            "Epoch 35/100\n",
            "11/11 [==============================] - 0s 6ms/step - loss: 239997878272.0000 - val_loss: 255237029888.0000\n",
            "Epoch 36/100\n",
            "11/11 [==============================] - 0s 4ms/step - loss: 239997861888.0000 - val_loss: 255237029888.0000\n",
            "Epoch 37/100\n",
            "11/11 [==============================] - 0s 4ms/step - loss: 239997829120.0000 - val_loss: 255236980736.0000\n",
            "Epoch 38/100\n",
            "11/11 [==============================] - 0s 4ms/step - loss: 239997829120.0000 - val_loss: 255236980736.0000\n",
            "Epoch 39/100\n",
            "11/11 [==============================] - 0s 4ms/step - loss: 239997812736.0000 - val_loss: 255236947968.0000\n",
            "Epoch 40/100\n",
            "11/11 [==============================] - 0s 4ms/step - loss: 239997779968.0000 - val_loss: 255236931584.0000\n",
            "Epoch 41/100\n",
            "11/11 [==============================] - 0s 6ms/step - loss: 239997763584.0000 - val_loss: 255236931584.0000\n",
            "Epoch 42/100\n",
            "11/11 [==============================] - 0s 6ms/step - loss: 239997747200.0000 - val_loss: 255236898816.0000\n",
            "Epoch 43/100\n",
            "11/11 [==============================] - 0s 6ms/step - loss: 239997763584.0000 - val_loss: 255236866048.0000\n",
            "Epoch 44/100\n",
            "11/11 [==============================] - 0s 4ms/step - loss: 239997747200.0000 - val_loss: 255236849664.0000\n",
            "Epoch 45/100\n",
            "11/11 [==============================] - 0s 4ms/step - loss: 239997714432.0000 - val_loss: 255236849664.0000\n",
            "Epoch 46/100\n",
            "11/11 [==============================] - 0s 4ms/step - loss: 239997714432.0000 - val_loss: 255236816896.0000\n",
            "Epoch 47/100\n",
            "11/11 [==============================] - 0s 6ms/step - loss: 239997665280.0000 - val_loss: 255236816896.0000\n",
            "Epoch 48/100\n",
            "11/11 [==============================] - 0s 6ms/step - loss: 239997665280.0000 - val_loss: 255236767744.0000\n",
            "Epoch 49/100\n",
            "11/11 [==============================] - 0s 4ms/step - loss: 239997616128.0000 - val_loss: 255236734976.0000\n",
            "Epoch 50/100\n",
            "11/11 [==============================] - 0s 4ms/step - loss: 239997648896.0000 - val_loss: 255236718592.0000\n",
            "Epoch 51/100\n",
            "11/11 [==============================] - 0s 5ms/step - loss: 239997599744.0000 - val_loss: 255236718592.0000\n",
            "Epoch 52/100\n",
            "11/11 [==============================] - 0s 7ms/step - loss: 239997599744.0000 - val_loss: 255236669440.0000\n",
            "Epoch 53/100\n",
            "11/11 [==============================] - 0s 4ms/step - loss: 239997599744.0000 - val_loss: 255236669440.0000\n",
            "Epoch 54/100\n",
            "11/11 [==============================] - 0s 4ms/step - loss: 239997550592.0000 - val_loss: 255236669440.0000\n",
            "Epoch 55/100\n",
            "11/11 [==============================] - 0s 4ms/step - loss: 239997550592.0000 - val_loss: 255236636672.0000\n",
            "Epoch 56/100\n",
            "11/11 [==============================] - 0s 4ms/step - loss: 239997550592.0000 - val_loss: 255236603904.0000\n",
            "Epoch 57/100\n",
            "11/11 [==============================] - 0s 4ms/step - loss: 239997501440.0000 - val_loss: 255236603904.0000\n",
            "Epoch 58/100\n",
            "11/11 [==============================] - 0s 5ms/step - loss: 239997501440.0000 - val_loss: 255236587520.0000\n",
            "Epoch 59/100\n",
            "11/11 [==============================] - 0s 4ms/step - loss: 239997485056.0000 - val_loss: 255236554752.0000\n",
            "Epoch 60/100\n",
            "11/11 [==============================] - 0s 6ms/step - loss: 239997435904.0000 - val_loss: 255236554752.0000\n",
            "Epoch 61/100\n",
            "11/11 [==============================] - 0s 4ms/step - loss: 239997452288.0000 - val_loss: 255236505600.0000\n",
            "Epoch 62/100\n",
            "11/11 [==============================] - 0s 6ms/step - loss: 239997435904.0000 - val_loss: 255236505600.0000\n",
            "Epoch 63/100\n",
            "11/11 [==============================] - 0s 5ms/step - loss: 239997403136.0000 - val_loss: 255236456448.0000\n",
            "Epoch 64/100\n",
            "11/11 [==============================] - 0s 6ms/step - loss: 239997403136.0000 - val_loss: 255236456448.0000\n",
            "Epoch 65/100\n",
            "11/11 [==============================] - 0s 6ms/step - loss: 239997403136.0000 - val_loss: 255236423680.0000\n",
            "Epoch 66/100\n",
            "11/11 [==============================] - 0s 6ms/step - loss: 239997386752.0000 - val_loss: 255236423680.0000\n",
            "Epoch 67/100\n",
            "11/11 [==============================] - 0s 6ms/step - loss: 239997337600.0000 - val_loss: 255236407296.0000\n",
            "Epoch 68/100\n",
            "11/11 [==============================] - 0s 6ms/step - loss: 239997337600.0000 - val_loss: 255236407296.0000\n",
            "Epoch 69/100\n",
            "11/11 [==============================] - 0s 6ms/step - loss: 239997304832.0000 - val_loss: 255236374528.0000\n",
            "Epoch 70/100\n",
            "11/11 [==============================] - 0s 5ms/step - loss: 239997304832.0000 - val_loss: 255236341760.0000\n",
            "Epoch 71/100\n",
            "11/11 [==============================] - 0s 4ms/step - loss: 239997288448.0000 - val_loss: 255236325376.0000\n",
            "Epoch 72/100\n",
            "11/11 [==============================] - 0s 6ms/step - loss: 239997255680.0000 - val_loss: 255236292608.0000\n",
            "Epoch 73/100\n",
            "11/11 [==============================] - 0s 6ms/step - loss: 239997239296.0000 - val_loss: 255236292608.0000\n",
            "Epoch 74/100\n",
            "11/11 [==============================] - 0s 4ms/step - loss: 239997239296.0000 - val_loss: 255236276224.0000\n",
            "Epoch 75/100\n",
            "11/11 [==============================] - 0s 6ms/step - loss: 239997190144.0000 - val_loss: 255236243456.0000\n",
            "Epoch 76/100\n",
            "11/11 [==============================] - 0s 4ms/step - loss: 239997206528.0000 - val_loss: 255236210688.0000\n",
            "Epoch 77/100\n",
            "11/11 [==============================] - 0s 6ms/step - loss: 239997190144.0000 - val_loss: 255236210688.0000\n",
            "Epoch 78/100\n",
            "11/11 [==============================] - 0s 6ms/step - loss: 239997173760.0000 - val_loss: 255236194304.0000\n",
            "Epoch 79/100\n",
            "11/11 [==============================] - 0s 5ms/step - loss: 239997173760.0000 - val_loss: 255236145152.0000\n",
            "Epoch 80/100\n",
            "11/11 [==============================] - 0s 4ms/step - loss: 239997140992.0000 - val_loss: 255236145152.0000\n",
            "Epoch 81/100\n",
            "11/11 [==============================] - 0s 6ms/step - loss: 239997140992.0000 - val_loss: 255236145152.0000\n",
            "Epoch 82/100\n",
            "11/11 [==============================] - 0s 4ms/step - loss: 239997124608.0000 - val_loss: 255236112384.0000\n",
            "Epoch 83/100\n",
            "11/11 [==============================] - 0s 6ms/step - loss: 239997091840.0000 - val_loss: 255236079616.0000\n",
            "Epoch 84/100\n",
            "11/11 [==============================] - 0s 6ms/step - loss: 239997075456.0000 - val_loss: 255236079616.0000\n",
            "Epoch 85/100\n",
            "11/11 [==============================] - 0s 6ms/step - loss: 239997075456.0000 - val_loss: 255236030464.0000\n",
            "Epoch 86/100\n",
            "11/11 [==============================] - 0s 7ms/step - loss: 239997026304.0000 - val_loss: 255236030464.0000\n",
            "Epoch 87/100\n",
            "11/11 [==============================] - 0s 6ms/step - loss: 239997026304.0000 - val_loss: 255235981312.0000\n",
            "Epoch 88/100\n",
            "11/11 [==============================] - 0s 6ms/step - loss: 239996993536.0000 - val_loss: 255235981312.0000\n",
            "Epoch 89/100\n",
            "11/11 [==============================] - 0s 4ms/step - loss: 239996977152.0000 - val_loss: 255235981312.0000\n",
            "Epoch 90/100\n",
            "11/11 [==============================] - 0s 6ms/step - loss: 239996977152.0000 - val_loss: 255235948544.0000\n",
            "Epoch 91/100\n",
            "11/11 [==============================] - 0s 4ms/step - loss: 239996977152.0000 - val_loss: 255235932160.0000\n",
            "Epoch 92/100\n",
            "11/11 [==============================] - 0s 4ms/step - loss: 239996928000.0000 - val_loss: 255235899392.0000\n",
            "Epoch 93/100\n",
            "11/11 [==============================] - 0s 6ms/step - loss: 239996928000.0000 - val_loss: 255235883008.0000\n",
            "Epoch 94/100\n",
            "11/11 [==============================] - 0s 6ms/step - loss: 239996878848.0000 - val_loss: 255235850240.0000\n",
            "Epoch 95/100\n",
            "11/11 [==============================] - 0s 6ms/step - loss: 239996911616.0000 - val_loss: 255235817472.0000\n",
            "Epoch 96/100\n",
            "11/11 [==============================] - 0s 4ms/step - loss: 239996878848.0000 - val_loss: 255235817472.0000\n",
            "Epoch 97/100\n",
            "11/11 [==============================] - 0s 6ms/step - loss: 239996862464.0000 - val_loss: 255235801088.0000\n",
            "Epoch 98/100\n",
            "11/11 [==============================] - 0s 5ms/step - loss: 239996862464.0000 - val_loss: 255235801088.0000\n",
            "Epoch 99/100\n",
            "11/11 [==============================] - 0s 4ms/step - loss: 239996829696.0000 - val_loss: 255235768320.0000\n",
            "Epoch 100/100\n",
            "11/11 [==============================] - 0s 6ms/step - loss: 239996813312.0000 - val_loss: 255235751936.0000\n"
          ]
        }
      ]
    },
    {
      "cell_type": "code",
      "source": [
        "#Evaluate the model on the test set\n",
        "test_loss = model.evaluate(X_test,y_test)\n",
        "print('Test loss:', test_loss)"
      ],
      "metadata": {
        "colab": {
          "base_uri": "https://localhost:8080/"
        },
        "id": "ylZDARi3QYKX",
        "outputId": "e428d157-f3f7-442b-9142-40c50a93d84b"
      },
      "execution_count": 18,
      "outputs": [
        {
          "output_type": "stream",
          "name": "stdout",
          "text": [
            "4/4 [==============================] - 0s 4ms/step - loss: 202395222016.0000\n",
            "Test loss: 202395222016.0\n"
          ]
        }
      ]
    },
    {
      "cell_type": "markdown",
      "source": [
        "**Visualization**"
      ],
      "metadata": {
        "id": "g_AvCTbXQqlt"
      }
    },
    {
      "cell_type": "code",
      "source": [
        "import matplotlib.pyplot as plt"
      ],
      "metadata": {
        "id": "UpYeoSqOQm7n"
      },
      "execution_count": 19,
      "outputs": []
    },
    {
      "cell_type": "code",
      "source": [
        "#plotting training and validation loss values\n",
        "plt.plot(history.history['loss'])\n",
        "plt.plot(history.history['val_loss'])\n",
        "plt.title('Model Loss')\n",
        "plt.ylabel('Loss')\n",
        "plt.xlabel('Epoch')\n",
        "plt.legend(['Train','Validation'], loc='upper left')\n",
        "plt.show()"
      ],
      "metadata": {
        "colab": {
          "base_uri": "https://localhost:8080/",
          "height": 472
        },
        "id": "b5bw3USRQxx8",
        "outputId": "0ef7a824-b36a-4459-e035-fe7f44402e87"
      },
      "execution_count": 20,
      "outputs": [
        {
          "output_type": "display_data",
          "data": {
            "text/plain": [
              "<Figure size 640x480 with 1 Axes>"
            ],
            "image/png": "[encoded data removed]"
          },
          "metadata": {}
        }
      ]
    },
    {
      "cell_type": "code",
      "source": [],
      "metadata": {
        "id": "6UL13tW7RL1z"
      },
      "execution_count": null,
      "outputs": []
    }
  ]
}