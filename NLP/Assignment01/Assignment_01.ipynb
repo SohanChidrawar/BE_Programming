{
 "cells": [
  {
   "cell_type": "code",
   "execution_count": 1,
   "id": "d49b0c13",
   "metadata": {},
   "outputs": [],
   "source": [
    "import nltk\n",
    "from nltk.tokenize import word_tokenize, TweetTokenizer\n",
    "from nltk.tokenize import WhitespaceTokenizer, WordPunctTokenizer\n",
    "from nltk.tokenize import TreebankWordTokenizer, MWETokenizer\n",
    "from nltk.stem import PorterStemmer, SnowballStemmer\n",
    "from nltk.stem import WordNetLemmatizer"
   ]
  },
  {
   "cell_type": "code",
   "execution_count": 15,
   "id": "28945c70",
   "metadata": {},
   "outputs": [],
   "source": [
    "# Sample sentence\n",
    "sentence = \"NLTK is a powerful library for natural language processing 😊✔\""
   ]
  },
  {
   "cell_type": "code",
   "execution_count": 16,
   "id": "755817d9",
   "metadata": {},
   "outputs": [],
   "source": [
    "# Tokenization\n",
    "# Whitespace Tokenizer\n",
    "whitespace_tokenizer = WhitespaceTokenizer()\n",
    "whitespace_tokens = whitespace_tokenizer.tokenize(sentence)"
   ]
  },
  {
   "cell_type": "code",
   "execution_count": 17,
   "id": "5c4ba027",
   "metadata": {},
   "outputs": [],
   "source": [
    "# Punctuation-based Tokenizer\n",
    "# Rule: 1. Punctuation: Splits almost all special symbols and treat them as separate units.\n",
    "\n",
    "punct_tokenizer = WordPunctTokenizer()\n",
    "punct_tokens = punct_tokenizer.tokenize(sentence)"
   ]
  },
  {
   "cell_type": "code",
   "execution_count": 18,
   "id": "418a9860",
   "metadata": {},
   "outputs": [],
   "source": [
    "# Treebank Tokenizer\n",
    "# Rule: 1. Treebank: Uses regular expressions to tokenize text.\n",
    "#       Regular Expressions: A filter that describes a set of strings that matches the pattern.\n",
    "\n",
    "treebank_tokenizer = TreebankWordTokenizer()\n",
    "treebank_tokens = treebank_tokenizer.tokenize(sentence)"
   ]
  },
  {
   "cell_type": "code",
   "execution_count": 19,
   "id": "d8fd2d34",
   "metadata": {},
   "outputs": [],
   "source": [
    "# Tweet Tokenizer\n",
    "# Rule: 1. Tweet - Considers Emoji/Unicodes as different tokens.\n",
    "\n",
    "tweet_tokenizer = TweetTokenizer()\n",
    "tweet_tokens = tweet_tokenizer.tokenize(sentence)"
   ]
  },
  {
   "cell_type": "code",
   "execution_count": 20,
   "id": "206e78e3",
   "metadata": {},
   "outputs": [],
   "source": [
    "# MWE(MWET - Multi-Word Expression Tokenizer) Tokenizer\n",
    "# Rule : 1. MWET - Allows the user to enter multiple word expressions before using the tokenizer on the text.\n",
    "\n",
    "mwe_tokenizer = MWETokenizer([('natural', 'language'), ('processing', '.')])\n",
    "mwe_tokens = mwe_tokenizer.tokenize(sentence.split())"
   ]
  },
  {
   "cell_type": "code",
   "execution_count": 21,
   "id": "382c3e95",
   "metadata": {},
   "outputs": [],
   "source": [
    "# Stemming\n",
    "porter_stemmer = PorterStemmer()\n",
    "porter_stems = [porter_stemmer.stem(token) for token in punct_tokens]"
   ]
  },
  {
   "cell_type": "code",
   "execution_count": 22,
   "id": "121ebc42",
   "metadata": {},
   "outputs": [],
   "source": [
    "snowball_stemmer = SnowballStemmer('english')\n",
    "snowball_stems = [snowball_stemmer.stem(token) for token in punct_tokens]\n"
   ]
  },
  {
   "cell_type": "code",
   "execution_count": 23,
   "id": "38423321",
   "metadata": {},
   "outputs": [],
   "source": [
    "# Lemmatization\n",
    "\n",
    "# Involves methods to identify and transform words into their base or root forms.\n",
    "\n",
    "# 1. Rule-Based\n",
    "# Word: “walked”\n",
    "# Rule Application: Remove “-ed”\n",
    "# Result: “walk\"\n",
    "\n",
    "# 2. Dictionary-Based\n",
    "# ‘running’ -> ‘run’\n",
    "# ‘better’ -> ‘good’\n",
    "# ‘went’ -> ‘go’\n",
    "\n",
    "# 3. Machine Learning-Based\n",
    "# Machine learning-based lemmatization leverages computational models to automatically learn the relationships between words \n",
    "# and their base forms. Unlike rule-based or dictionary-based approaches, machine learning models, such as neural networks or \n",
    "# statistical models, are trained on large text datasets to generalize patterns in language.\n",
    "\n",
    "\n",
    "wordnet_lemmatizer = WordNetLemmatizer()\n",
    "lemmas = [wordnet_lemmatizer.lemmatize(token) for token in punct_tokens]"
   ]
  },
  {
   "cell_type": "code",
   "execution_count": 24,
   "id": "421417f1",
   "metadata": {},
   "outputs": [
    {
     "name": "stdout",
     "output_type": "stream",
     "text": [
      "Original Sentence: NLTK is a powerful library for natural language processing 😊✔\n",
      "Whitespace Tokenizer: ['NLTK', 'is', 'a', 'powerful', 'library', 'for', 'natural', 'language', 'processing', '😊✔']\n",
      "Punctuation-based Tokenizer: ['NLTK', 'is', 'a', 'powerful', 'library', 'for', 'natural', 'language', 'processing', '😊✔']\n",
      "Treebank Tokenizer: ['NLTK', 'is', 'a', 'powerful', 'library', 'for', 'natural', 'language', 'processing', '😊✔']\n",
      "Tweet Tokenizer: ['NLTK', 'is', 'a', 'powerful', 'library', 'for', 'natural', 'language', 'processing', '😊', '✔']\n",
      "MWE Tokenizer: ['NLTK', 'is', 'a', 'powerful', 'library', 'for', 'natural_language', 'processing', '😊✔']\n",
      "Porter Stemmer: ['nltk', 'is', 'a', 'power', 'librari', 'for', 'natur', 'languag', 'process', '😊✔']\n",
      "Snowball Stemmer: ['nltk', 'is', 'a', 'power', 'librari', 'for', 'natur', 'languag', 'process', '😊✔']\n",
      "Lemmatization: ['NLTK', 'is', 'a', 'powerful', 'library', 'for', 'natural', 'language', 'processing', '😊✔']\n"
     ]
    }
   ],
   "source": [
    "# Print results\n",
    "print(\"Original Sentence:\", sentence)\n",
    "\n",
    "print(\"Whitespace Tokenizer:\", whitespace_tokens)\n",
    "\n",
    "print(\"Punctuation-based Tokenizer:\", punct_tokens)\n",
    "\n",
    "print(\"Treebank Tokenizer:\", treebank_tokens)\n",
    "\n",
    "print(\"Tweet Tokenizer:\", tweet_tokens)\n",
    "\n",
    "print(\"MWE Tokenizer:\", mwe_tokens)\n",
    "\n",
    "print(\"Porter Stemmer:\", porter_stems)\n",
    "\n",
    "print(\"Snowball Stemmer:\", snowball_stems)\n",
    "\n",
    "print(\"Lemmatization:\", lemmas)"
   ]
  },
  {
   "cell_type": "code",
   "execution_count": null,
   "id": "c36c2fed",
   "metadata": {},
   "outputs": [],
   "source": []
  }
 ],
 "metadata": {
  "kernelspec": {
   "display_name": "Python 3 (ipykernel)",
   "language": "python",
   "name": "python3"
  },
  "language_info": {
   "codemirror_mode": {
    "name": "ipython",
    "version": 3
   },
   "file_extension": ".py",
   "mimetype": "text/x-python",
   "name": "python",
   "nbconvert_exporter": "python",
   "pygments_lexer": "ipython3",
   "version": "3.11.1"
  }
 },
 "nbformat": 4,
 "nbformat_minor": 5
}
